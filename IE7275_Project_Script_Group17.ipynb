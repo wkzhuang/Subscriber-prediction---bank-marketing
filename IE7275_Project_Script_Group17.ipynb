{
 "cells": [
  {
   "cell_type": "code",
   "execution_count": 1,
   "metadata": {
    "colab": {
     "base_uri": "https://localhost:8080/"
    },
    "collapsed": false,
    "id": "dXy5-ZxFl0GI",
    "outputId": "57f92b16-2275-41ce-8f78-c2309923db4e"
   },
   "outputs": [],
   "source": [
    "# Import libraries\n",
    "import pandas as pd\n",
    "import numpy as np\n",
    "import seaborn as sns\n",
    "import matplotlib.pyplot as plt\n",
    "%matplotlib inline\n",
    "import statsmodels.api as sm\n",
    "from sklearn.model_selection import train_test_split\n",
    "from sklearn.preprocessing import StandardScaler, MinMaxScaler\n",
    "from sklearn.metrics import classification_report, roc_auc_score, accuracy_score, confusion_matrix\n",
    "from sklearn.model_selection import cross_val_score, KFold\n",
    "\n",
    "import warnings\n",
    "warnings.filterwarnings('ignore')"
   ]
  },
  {
   "cell_type": "markdown",
   "metadata": {
    "id": "igh5yYH_mWZr"
   },
   "source": [
    "# Data Collection"
   ]
  },
  {
   "cell_type": "code",
   "execution_count": 2,
   "metadata": {
    "colab": {
     "base_uri": "https://localhost:8080/",
     "height": 263,
     "resources": {
      "http://localhost:8080/nbextensions/google.colab/files.js": {
       "data": "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",
       "headers": [
        [
         "content-type",
         "application/javascript"
        ]
       ],
       "ok": true,
       "status": 200,
       "status_text": ""
      }
     }
    },
    "collapsed": false,
    "id": "85CZ9ftRmT5n",
    "outputId": "1f301bce-9264-4aaf-8f75-81a61373aa06"
   },
   "outputs": [
    {
     "data": {
      "text/html": [
       "\n",
       "     <input type=\"file\" id=\"files-ed72c48f-44cc-416a-a2f0-99d8c545ef1d\" name=\"files[]\" multiple disabled\n",
       "        style=\"border:none\" />\n",
       "     <output id=\"result-ed72c48f-44cc-416a-a2f0-99d8c545ef1d\">\n",
       "      Upload widget is only available when the cell has been executed in the\n",
       "      current browser session. Please rerun this cell to enable.\n",
       "      </output>\n",
       "      <script src=\"/nbextensions/google.colab/files.js\"></script> "
      ],
      "text/plain": [
       "<IPython.core.display.HTML object>"
      ]
     },
     "metadata": {},
     "output_type": "display_data"
    },
    {
     "name": "stdout",
     "output_type": "stream",
     "text": [
      "Saving bank-full.csv to bank-full.csv\n"
     ]
    },
    {
     "data": {
      "text/html": [
       "<div>\n",
       "<style scoped>\n",
       "    .dataframe tbody tr th:only-of-type {\n",
       "        vertical-align: middle;\n",
       "    }\n",
       "\n",
       "    .dataframe tbody tr th {\n",
       "        vertical-align: top;\n",
       "    }\n",
       "\n",
       "    .dataframe thead th {\n",
       "        text-align: right;\n",
       "    }\n",
       "</style>\n",
       "<table border=\"1\" class=\"dataframe\">\n",
       "  <thead>\n",
       "    <tr style=\"text-align: right;\">\n",
       "      <th></th>\n",
       "      <th>age</th>\n",
       "      <th>job</th>\n",
       "      <th>marital</th>\n",
       "      <th>education</th>\n",
       "      <th>default</th>\n",
       "      <th>balance</th>\n",
       "      <th>housing</th>\n",
       "      <th>loan</th>\n",
       "      <th>contact</th>\n",
       "      <th>day</th>\n",
       "      <th>month</th>\n",
       "      <th>duration</th>\n",
       "      <th>campaign</th>\n",
       "      <th>pdays</th>\n",
       "      <th>previous</th>\n",
       "      <th>poutcome</th>\n",
       "      <th>y</th>\n",
       "    </tr>\n",
       "  </thead>\n",
       "  <tbody>\n",
       "    <tr>\n",
       "      <th>0</th>\n",
       "      <td>58</td>\n",
       "      <td>management</td>\n",
       "      <td>married</td>\n",
       "      <td>tertiary</td>\n",
       "      <td>no</td>\n",
       "      <td>2143</td>\n",
       "      <td>yes</td>\n",
       "      <td>no</td>\n",
       "      <td>unknown</td>\n",
       "      <td>5</td>\n",
       "      <td>may</td>\n",
       "      <td>261</td>\n",
       "      <td>1</td>\n",
       "      <td>-1</td>\n",
       "      <td>0</td>\n",
       "      <td>unknown</td>\n",
       "      <td>no</td>\n",
       "    </tr>\n",
       "    <tr>\n",
       "      <th>1</th>\n",
       "      <td>44</td>\n",
       "      <td>technician</td>\n",
       "      <td>single</td>\n",
       "      <td>secondary</td>\n",
       "      <td>no</td>\n",
       "      <td>29</td>\n",
       "      <td>yes</td>\n",
       "      <td>no</td>\n",
       "      <td>unknown</td>\n",
       "      <td>5</td>\n",
       "      <td>may</td>\n",
       "      <td>151</td>\n",
       "      <td>1</td>\n",
       "      <td>-1</td>\n",
       "      <td>0</td>\n",
       "      <td>unknown</td>\n",
       "      <td>no</td>\n",
       "    </tr>\n",
       "    <tr>\n",
       "      <th>2</th>\n",
       "      <td>33</td>\n",
       "      <td>entrepreneur</td>\n",
       "      <td>married</td>\n",
       "      <td>secondary</td>\n",
       "      <td>no</td>\n",
       "      <td>2</td>\n",
       "      <td>yes</td>\n",
       "      <td>yes</td>\n",
       "      <td>unknown</td>\n",
       "      <td>5</td>\n",
       "      <td>may</td>\n",
       "      <td>76</td>\n",
       "      <td>1</td>\n",
       "      <td>-1</td>\n",
       "      <td>0</td>\n",
       "      <td>unknown</td>\n",
       "      <td>no</td>\n",
       "    </tr>\n",
       "    <tr>\n",
       "      <th>3</th>\n",
       "      <td>47</td>\n",
       "      <td>blue-collar</td>\n",
       "      <td>married</td>\n",
       "      <td>unknown</td>\n",
       "      <td>no</td>\n",
       "      <td>1506</td>\n",
       "      <td>yes</td>\n",
       "      <td>no</td>\n",
       "      <td>unknown</td>\n",
       "      <td>5</td>\n",
       "      <td>may</td>\n",
       "      <td>92</td>\n",
       "      <td>1</td>\n",
       "      <td>-1</td>\n",
       "      <td>0</td>\n",
       "      <td>unknown</td>\n",
       "      <td>no</td>\n",
       "    </tr>\n",
       "    <tr>\n",
       "      <th>4</th>\n",
       "      <td>33</td>\n",
       "      <td>unknown</td>\n",
       "      <td>single</td>\n",
       "      <td>unknown</td>\n",
       "      <td>no</td>\n",
       "      <td>1</td>\n",
       "      <td>no</td>\n",
       "      <td>no</td>\n",
       "      <td>unknown</td>\n",
       "      <td>5</td>\n",
       "      <td>may</td>\n",
       "      <td>198</td>\n",
       "      <td>1</td>\n",
       "      <td>-1</td>\n",
       "      <td>0</td>\n",
       "      <td>unknown</td>\n",
       "      <td>no</td>\n",
       "    </tr>\n",
       "  </tbody>\n",
       "</table>\n",
       "</div>"
      ],
      "text/plain": [
       "   age           job  marital  education  ... pdays  previous poutcome   y\n",
       "0   58    management  married   tertiary  ...    -1         0  unknown  no\n",
       "1   44    technician   single  secondary  ...    -1         0  unknown  no\n",
       "2   33  entrepreneur  married  secondary  ...    -1         0  unknown  no\n",
       "3   47   blue-collar  married    unknown  ...    -1         0  unknown  no\n",
       "4   33       unknown   single    unknown  ...    -1         0  unknown  no\n",
       "\n",
       "[5 rows x 17 columns]"
      ]
     },
     "execution_count": 2,
     "metadata": {},
     "output_type": "execute_result"
    }
   ],
   "source": [
    "from google.colab import files\n",
    "file = files.upload()\n",
    "df = pd.read_csv(\"bank-full.csv\", sep=';') \n",
    "df.head()"
   ]
  },
  {
   "cell_type": "code",
   "execution_count": null,
   "metadata": {
    "colab": {
     "base_uri": "https://localhost:8080/"
    },
    "collapsed": false,
    "id": "BTc_L5XA6jKq",
    "outputId": "71754b68-155d-4beb-cfa1-f827caa2ff08"
   },
   "outputs": [
    {
     "name": "stdout",
     "output_type": "stream",
     "text": [
      "<class 'pandas.core.frame.DataFrame'>\n",
      "RangeIndex: 45211 entries, 0 to 45210\n",
      "Data columns (total 17 columns):\n",
      " #   Column     Non-Null Count  Dtype \n",
      "---  ------     --------------  ----- \n",
      " 0   age        45211 non-null  int64 \n",
      " 1   job        45211 non-null  object\n",
      " 2   marital    45211 non-null  object\n",
      " 3   education  45211 non-null  object\n",
      " 4   default    45211 non-null  object\n",
      " 5   balance    45211 non-null  int64 \n",
      " 6   housing    45211 non-null  object\n",
      " 7   loan       45211 non-null  object\n",
      " 8   contact    45211 non-null  object\n",
      " 9   day        45211 non-null  int64 \n",
      " 10  month      45211 non-null  object\n",
      " 11  duration   45211 non-null  int64 \n",
      " 12  campaign   45211 non-null  int64 \n",
      " 13  pdays      45211 non-null  int64 \n",
      " 14  previous   45211 non-null  int64 \n",
      " 15  poutcome   45211 non-null  object\n",
      " 16  y          45211 non-null  object\n",
      "dtypes: int64(7), object(10)\n",
      "memory usage: 5.9+ MB\n"
     ]
    }
   ],
   "source": [
    "# Check dataset info and see variable types\n",
    "df.info()\n",
    "# In our dataset, there are 16 variables, including 7 numerical variables and 9 categorical variables.\n",
    "# There doesn't seem to be any missing values"
   ]
  },
  {
   "cell_type": "markdown",
   "metadata": {
    "id": "XATfr6fBmg3N"
   },
   "source": [
    "# Data Exploration and Visualization"
   ]
  },
  {
   "cell_type": "markdown",
   "metadata": {
    "id": "UUhgrqJuJhnh"
   },
   "source": [
    "## Preliminary Exploration"
   ]
  },
  {
   "cell_type": "code",
   "execution_count": null,
   "metadata": {
    "colab": {
     "base_uri": "https://localhost:8080/"
    },
    "collapsed": false,
    "id": "ad0VTo4v73aj",
    "outputId": "98b2ce60-c613-4774-e295-685aa338ad77"
   },
   "outputs": [
    {
     "data": {
      "text/plain": [
       "0    39922\n",
       "1     5289\n",
       "Name: y, dtype: int64"
      ]
     },
     "execution_count": 27,
     "metadata": {},
     "output_type": "execute_result"
    }
   ],
   "source": [
    "# Target variable\n",
    "df['y'].value_counts()\n",
    "# We found that the dataset is imbalanced.\n",
    "# The percentage of 'yes' account for 11.69%, so in the next phase, we should do something to change the imbalanced dataset."
   ]
  },
  {
   "cell_type": "code",
   "execution_count": null,
   "metadata": {
    "colab": {
     "base_uri": "https://localhost:8080/",
     "height": 297
    },
    "collapsed": false,
    "id": "tkUl3AiJK2qf",
    "outputId": "94e98026-5474-49a0-f631-8fe2e6bac17d"
   },
   "outputs": [
    {
     "data": {
      "text/plain": [
       "<matplotlib.axes._subplots.AxesSubplot at 0x7f2643d8d550>"
      ]
     },
     "execution_count": 20,
     "metadata": {},
     "output_type": "execute_result"
    },
    {
     "data": {
      "image/png": "[encoded data removed]",
      "text/plain": [
       "<Figure size 432x288 with 1 Axes>"
      ]
     },
     "metadata": {
      "needs_background": "light"
     },
     "output_type": "display_data"
    }
   ],
   "source": [
    "# Visualize the imbalance\n",
    "sns.countplot(x = df[\"y\"])"
   ]
  },
  {
   "cell_type": "code",
   "execution_count": null,
   "metadata": {
    "colab": {
     "base_uri": "https://localhost:8080/",
     "height": 194
    },
    "collapsed": false,
    "id": "ZZGgX4nN93GE",
    "outputId": "a2cf8082-71e5-4821-d6cc-437ce824987f"
   },
   "outputs": [
    {
     "data": {
      "text/html": [
       "<div>\n",
       "<style scoped>\n",
       "    .dataframe tbody tr th:only-of-type {\n",
       "        vertical-align: middle;\n",
       "    }\n",
       "\n",
       "    .dataframe tbody tr th {\n",
       "        vertical-align: top;\n",
       "    }\n",
       "\n",
       "    .dataframe thead tr th {\n",
       "        text-align: left;\n",
       "    }\n",
       "\n",
       "    .dataframe thead tr:last-of-type th {\n",
       "        text-align: right;\n",
       "    }\n",
       "</style>\n",
       "<table border=\"1\" class=\"dataframe\">\n",
       "  <thead>\n",
       "    <tr>\n",
       "      <th></th>\n",
       "      <th colspan=\"8\" halign=\"left\">age</th>\n",
       "      <th colspan=\"8\" halign=\"left\">balance</th>\n",
       "      <th colspan=\"8\" halign=\"left\">day</th>\n",
       "      <th colspan=\"8\" halign=\"left\">duration</th>\n",
       "      <th colspan=\"8\" halign=\"left\">campaign</th>\n",
       "      <th colspan=\"8\" halign=\"left\">pdays</th>\n",
       "      <th colspan=\"8\" halign=\"left\">previous</th>\n",
       "    </tr>\n",
       "    <tr>\n",
       "      <th></th>\n",
       "      <th>count</th>\n",
       "      <th>mean</th>\n",
       "      <th>std</th>\n",
       "      <th>min</th>\n",
       "      <th>25%</th>\n",
       "      <th>50%</th>\n",
       "      <th>75%</th>\n",
       "      <th>max</th>\n",
       "      <th>count</th>\n",
       "      <th>mean</th>\n",
       "      <th>std</th>\n",
       "      <th>min</th>\n",
       "      <th>25%</th>\n",
       "      <th>50%</th>\n",
       "      <th>75%</th>\n",
       "      <th>max</th>\n",
       "      <th>count</th>\n",
       "      <th>mean</th>\n",
       "      <th>std</th>\n",
       "      <th>min</th>\n",
       "      <th>25%</th>\n",
       "      <th>50%</th>\n",
       "      <th>75%</th>\n",
       "      <th>max</th>\n",
       "      <th>count</th>\n",
       "      <th>mean</th>\n",
       "      <th>std</th>\n",
       "      <th>min</th>\n",
       "      <th>25%</th>\n",
       "      <th>50%</th>\n",
       "      <th>75%</th>\n",
       "      <th>max</th>\n",
       "      <th>count</th>\n",
       "      <th>mean</th>\n",
       "      <th>std</th>\n",
       "      <th>min</th>\n",
       "      <th>25%</th>\n",
       "      <th>50%</th>\n",
       "      <th>75%</th>\n",
       "      <th>max</th>\n",
       "      <th>count</th>\n",
       "      <th>mean</th>\n",
       "      <th>std</th>\n",
       "      <th>min</th>\n",
       "      <th>25%</th>\n",
       "      <th>50%</th>\n",
       "      <th>75%</th>\n",
       "      <th>max</th>\n",
       "      <th>count</th>\n",
       "      <th>mean</th>\n",
       "      <th>std</th>\n",
       "      <th>min</th>\n",
       "      <th>25%</th>\n",
       "      <th>50%</th>\n",
       "      <th>75%</th>\n",
       "      <th>max</th>\n",
       "    </tr>\n",
       "    <tr>\n",
       "      <th>y</th>\n",
       "      <th></th>\n",
       "      <th></th>\n",
       "      <th></th>\n",
       "      <th></th>\n",
       "      <th></th>\n",
       "      <th></th>\n",
       "      <th></th>\n",
       "      <th></th>\n",
       "      <th></th>\n",
       "      <th></th>\n",
       "      <th></th>\n",
       "      <th></th>\n",
       "      <th></th>\n",
       "      <th></th>\n",
       "      <th></th>\n",
       "      <th></th>\n",
       "      <th></th>\n",
       "      <th></th>\n",
       "      <th></th>\n",
       "      <th></th>\n",
       "      <th></th>\n",
       "      <th></th>\n",
       "      <th></th>\n",
       "      <th></th>\n",
       "      <th></th>\n",
       "      <th></th>\n",
       "      <th></th>\n",
       "      <th></th>\n",
       "      <th></th>\n",
       "      <th></th>\n",
       "      <th></th>\n",
       "      <th></th>\n",
       "      <th></th>\n",
       "      <th></th>\n",
       "      <th></th>\n",
       "      <th></th>\n",
       "      <th></th>\n",
       "      <th></th>\n",
       "      <th></th>\n",
       "      <th></th>\n",
       "      <th></th>\n",
       "      <th></th>\n",
       "      <th></th>\n",
       "      <th></th>\n",
       "      <th></th>\n",
       "      <th></th>\n",
       "      <th></th>\n",
       "      <th></th>\n",
       "      <th></th>\n",
       "      <th></th>\n",
       "      <th></th>\n",
       "      <th></th>\n",
       "      <th></th>\n",
       "      <th></th>\n",
       "      <th></th>\n",
       "      <th></th>\n",
       "    </tr>\n",
       "  </thead>\n",
       "  <tbody>\n",
       "    <tr>\n",
       "      <th>no</th>\n",
       "      <td>39922.0</td>\n",
       "      <td>40.838986</td>\n",
       "      <td>10.172662</td>\n",
       "      <td>18.0</td>\n",
       "      <td>33.0</td>\n",
       "      <td>39.0</td>\n",
       "      <td>48.0</td>\n",
       "      <td>95.0</td>\n",
       "      <td>39922.0</td>\n",
       "      <td>1303.714969</td>\n",
       "      <td>2974.195473</td>\n",
       "      <td>-8019.0</td>\n",
       "      <td>58.0</td>\n",
       "      <td>417.0</td>\n",
       "      <td>1345.0</td>\n",
       "      <td>102127.0</td>\n",
       "      <td>39922.0</td>\n",
       "      <td>15.892290</td>\n",
       "      <td>8.294728</td>\n",
       "      <td>1.0</td>\n",
       "      <td>8.0</td>\n",
       "      <td>16.0</td>\n",
       "      <td>21.0</td>\n",
       "      <td>31.0</td>\n",
       "      <td>39922.0</td>\n",
       "      <td>221.182806</td>\n",
       "      <td>207.383237</td>\n",
       "      <td>0.0</td>\n",
       "      <td>95.0</td>\n",
       "      <td>164.0</td>\n",
       "      <td>279.0</td>\n",
       "      <td>4918.0</td>\n",
       "      <td>39922.0</td>\n",
       "      <td>2.846350</td>\n",
       "      <td>3.212767</td>\n",
       "      <td>1.0</td>\n",
       "      <td>1.0</td>\n",
       "      <td>2.0</td>\n",
       "      <td>3.0</td>\n",
       "      <td>63.0</td>\n",
       "      <td>39922.0</td>\n",
       "      <td>36.421372</td>\n",
       "      <td>96.757135</td>\n",
       "      <td>-1.0</td>\n",
       "      <td>-1.0</td>\n",
       "      <td>-1.0</td>\n",
       "      <td>-1.0</td>\n",
       "      <td>871.0</td>\n",
       "      <td>39922.0</td>\n",
       "      <td>0.502154</td>\n",
       "      <td>2.256771</td>\n",
       "      <td>0.0</td>\n",
       "      <td>0.0</td>\n",
       "      <td>0.0</td>\n",
       "      <td>0.0</td>\n",
       "      <td>275.0</td>\n",
       "    </tr>\n",
       "    <tr>\n",
       "      <th>yes</th>\n",
       "      <td>5289.0</td>\n",
       "      <td>41.670070</td>\n",
       "      <td>13.497781</td>\n",
       "      <td>18.0</td>\n",
       "      <td>31.0</td>\n",
       "      <td>38.0</td>\n",
       "      <td>50.0</td>\n",
       "      <td>95.0</td>\n",
       "      <td>5289.0</td>\n",
       "      <td>1804.267915</td>\n",
       "      <td>3501.104777</td>\n",
       "      <td>-3058.0</td>\n",
       "      <td>210.0</td>\n",
       "      <td>733.0</td>\n",
       "      <td>2159.0</td>\n",
       "      <td>81204.0</td>\n",
       "      <td>5289.0</td>\n",
       "      <td>15.158253</td>\n",
       "      <td>8.501875</td>\n",
       "      <td>1.0</td>\n",
       "      <td>8.0</td>\n",
       "      <td>15.0</td>\n",
       "      <td>22.0</td>\n",
       "      <td>31.0</td>\n",
       "      <td>5289.0</td>\n",
       "      <td>537.294574</td>\n",
       "      <td>392.525262</td>\n",
       "      <td>8.0</td>\n",
       "      <td>244.0</td>\n",
       "      <td>426.0</td>\n",
       "      <td>725.0</td>\n",
       "      <td>3881.0</td>\n",
       "      <td>5289.0</td>\n",
       "      <td>2.141047</td>\n",
       "      <td>1.921826</td>\n",
       "      <td>1.0</td>\n",
       "      <td>1.0</td>\n",
       "      <td>2.0</td>\n",
       "      <td>3.0</td>\n",
       "      <td>32.0</td>\n",
       "      <td>5289.0</td>\n",
       "      <td>68.702968</td>\n",
       "      <td>118.822266</td>\n",
       "      <td>-1.0</td>\n",
       "      <td>-1.0</td>\n",
       "      <td>-1.0</td>\n",
       "      <td>98.0</td>\n",
       "      <td>854.0</td>\n",
       "      <td>5289.0</td>\n",
       "      <td>1.170354</td>\n",
       "      <td>2.553272</td>\n",
       "      <td>0.0</td>\n",
       "      <td>0.0</td>\n",
       "      <td>0.0</td>\n",
       "      <td>1.0</td>\n",
       "      <td>58.0</td>\n",
       "    </tr>\n",
       "  </tbody>\n",
       "</table>\n",
       "</div>"
      ],
      "text/plain": [
       "         age                                    ... previous                      \n",
       "       count       mean        std   min   25%  ...      min  25%  50%  75%    max\n",
       "y                                               ...                               \n",
       "no   39922.0  40.838986  10.172662  18.0  33.0  ...      0.0  0.0  0.0  0.0  275.0\n",
       "yes   5289.0  41.670070  13.497781  18.0  31.0  ...      0.0  0.0  0.0  1.0   58.0\n",
       "\n",
       "[2 rows x 56 columns]"
      ]
     },
     "execution_count": 10,
     "metadata": {},
     "output_type": "execute_result"
    }
   ],
   "source": [
    "# Run summary statistics on each variable\n",
    "df.groupby('y').describe()"
   ]
  },
  {
   "cell_type": "code",
   "execution_count": null,
   "metadata": {
    "colab": {
     "base_uri": "https://localhost:8080/"
    },
    "collapsed": false,
    "id": "b-RaR3HOAb6k",
    "outputId": "41ba78df-808e-4aa9-d960-acd07f043797"
   },
   "outputs": [
    {
     "name": "stdout",
     "output_type": "stream",
     "text": [
      "{'job': 288, 'marital': 0, 'education': 1857, 'default': 0, 'housing': 0, 'loan': 0, 'contact': 13020, 'month': 0, 'poutcome': 36959}\n"
     ]
    }
   ],
   "source": [
    "# When loading the data, we found some variables with a category of \"unknown\"\n",
    "# Check these variables for the percentages of unknown so that we can either impute or drop\n",
    "result = {\n",
    "    col: df.loc[df[col]=='unknown',col].count()\n",
    "    for col in df.select_dtypes(include=['object']).drop('y',axis=1).columns\n",
    "}\n",
    "print(result)"
   ]
  },
  {
   "cell_type": "code",
   "execution_count": null,
   "metadata": {
    "colab": {
     "base_uri": "https://localhost:8080/"
    },
    "collapsed": false,
    "id": "e-tiGeP7BZFR",
    "outputId": "6d627085-6011-486b-ff0e-fc604f3624df"
   },
   "outputs": [
    {
     "name": "stdout",
     "output_type": "stream",
     "text": [
      "The percentages of \"unknown\" values in each categorical variables\n",
      "job 0.64%\n",
      "marital 0.00%\n",
      "education 4.11%\n",
      "default 0.00%\n",
      "housing 0.00%\n",
      "loan 0.00%\n",
      "contact 28.80%\n",
      "month 0.00%\n",
      "poutcome 81.75%\n"
     ]
    }
   ],
   "source": [
    "print(\"The percentages of \\\"unknown\\\" values in each categorical variables\")\n",
    "for i in result.keys():\n",
    "  print(i, \"{:.2%}\".format(result.get(i)/len(df)))"
   ]
  },
  {
   "cell_type": "code",
   "execution_count": null,
   "metadata": {
    "colab": {
     "base_uri": "https://localhost:8080/"
    },
    "collapsed": false,
    "id": "oyfV-e8_93Yn",
    "outputId": "5d803900-cbe2-4df9-8451-40eafe419007"
   },
   "outputs": [
    {
     "data": {
      "text/plain": [
       "5289"
      ]
     },
     "execution_count": 16,
     "metadata": {},
     "output_type": "execute_result"
    }
   ],
   "source": [
    "# Th attribute \"duration\" will highly affects the output target.(eg, if duration = '0', then y = '0'; >0 then y= \"1\")\n",
    "# Output below shows the number of observation with duration > 0 and y=\"yes\" equals\n",
    "# to the total number of \"yes\" observations in the dataset.\n",
    "df[(df['duration'] > 0) & (df['y']=='yes')].shape[0]"
   ]
  },
  {
   "cell_type": "code",
   "execution_count": 3,
   "metadata": {
    "collapsed": true,
    "id": "d9Avh9W2_DA6"
   },
   "outputs": [],
   "source": [
    "# For convenience, encode outcome variable as 0/1 binary variable\n",
    "# Yes - 1; No- 0\n",
    "df['y'] = df['y'].map({'yes':1, 'no':0})"
   ]
  },
  {
   "cell_type": "code",
   "execution_count": null,
   "metadata": {
    "colab": {
     "base_uri": "https://localhost:8080/"
    },
    "collapsed": false,
    "id": "FW0Sfr3mBVoo",
    "outputId": "e5c80c8d-20ca-42ac-ecab-b34306a0a0b8"
   },
   "outputs": [
    {
     "data": {
      "text/plain": [
       "age          0.684818\n",
       "balance      8.360308\n",
       "day          0.093079\n",
       "duration     3.144318\n",
       "campaign     4.898650\n",
       "pdays        2.615715\n",
       "previous    41.846454\n",
       "y            2.383480\n",
       "dtype: float64"
      ]
     },
     "execution_count": 18,
     "metadata": {},
     "output_type": "execute_result"
    }
   ],
   "source": [
    "# Check the skewness of numerical variables\n",
    "# We should consider changing highly skewed variables before model building\n",
    "df.skew()"
   ]
  },
  {
   "cell_type": "markdown",
   "metadata": {
    "id": "FAUt17jnK-EI"
   },
   "source": [
    "## Visualization"
   ]
  },
  {
   "cell_type": "markdown",
   "metadata": {
    "id": "RT6W5vCBNDbA"
   },
   "source": [
    "### Categorical Variables"
   ]
  },
  {
   "cell_type": "markdown",
   "metadata": {
    "id": "28_T3aUcO88Y"
   },
   "source": [
    "Visualizing cross-tab comparisons of each category of every categorical data with respect to the outcome variable(y=0/1)"
   ]
  },
  {
   "cell_type": "code",
   "execution_count": null,
   "metadata": {
    "colab": {
     "base_uri": "https://localhost:8080/",
     "height": 684
    },
    "collapsed": false,
    "id": "ruluvfo6BWMo",
    "outputId": "2d2587d1-c9f1-451e-ad9c-72e95f413fac"
   },
   "outputs": [
    {
     "data": {
      "text/plain": [
       "<matplotlib.axes._subplots.AxesSubplot at 0x7f26430f7f90>"
      ]
     },
     "execution_count": 41,
     "metadata": {},
     "output_type": "execute_result"
    },
    {
     "data": {
      "image/png": "[encoded data removed]",
      "text/plain": [
       "<Figure size 1080x720 with 2 Axes>"
      ]
     },
     "metadata": {
      "needs_background": "light"
     },
     "output_type": "display_data"
    }
   ],
   "source": [
    "fig, ax = plt.subplots(1,2,figsize=(15,10))\n",
    "ax1= plt.subplot(121)\n",
    "pd.crosstab(df['job'],df['y']).plot(kind = 'bar', stacked = True, color = ['Gray', 'pink'],ax=ax1)\n",
    "ax2= plt.subplot(122)\n",
    "pd.crosstab(df['marital'],df['y']).plot(kind = 'bar', stacked = True,  color = ['Gray', 'pink'],ax=ax2)"
   ]
  },
  {
   "cell_type": "code",
   "execution_count": null,
   "metadata": {
    "colab": {
     "base_uri": "https://localhost:8080/",
     "height": 665
    },
    "collapsed": false,
    "id": "vhLfS98rNCHr",
    "outputId": "a2d13ae4-82cd-43ae-86eb-91e0602492fb"
   },
   "outputs": [
    {
     "data": {
      "text/plain": [
       "<matplotlib.axes._subplots.AxesSubplot at 0x7f26429e81d0>"
      ]
     },
     "execution_count": 40,
     "metadata": {},
     "output_type": "execute_result"
    },
    {
     "data": {
      "image/png": "[encoded data removed]",
      "text/plain": [
       "<Figure size 1080x720 with 2 Axes>"
      ]
     },
     "metadata": {
      "needs_background": "light"
     },
     "output_type": "display_data"
    }
   ],
   "source": [
    "fig, ax = plt.subplots(1,2,figsize=(15,10))\n",
    "ax1= plt.subplot(121)\n",
    "pd.crosstab(df['education'],df['y']).plot(kind = 'bar', stacked = True, color = ['Gray', 'pink'],ax=ax1)\n",
    "ax2= plt.subplot(122)\n",
    "pd.crosstab(df['default'],df['y']).plot(kind = 'bar', stacked = True,  color = ['Gray', 'pink'],ax=ax2)"
   ]
  },
  {
   "cell_type": "code",
   "execution_count": null,
   "metadata": {
    "colab": {
     "base_uri": "https://localhost:8080/",
     "height": 631
    },
    "collapsed": false,
    "id": "InXnfmnGN7Zh",
    "outputId": "feee0f51-6402-4ab7-8c62-1294cb116137"
   },
   "outputs": [
    {
     "data": {
      "text/plain": [
       "<matplotlib.axes._subplots.AxesSubplot at 0x7f2642aced10>"
      ]
     },
     "execution_count": 37,
     "metadata": {},
     "output_type": "execute_result"
    },
    {
     "data": {
      "image/png": "[encoded data removed]",
      "text/plain": [
       "<Figure size 1080x720 with 2 Axes>"
      ]
     },
     "metadata": {
      "needs_background": "light"
     },
     "output_type": "display_data"
    }
   ],
   "source": [
    "fig, ax = plt.subplots(1,2,figsize=(15,10))\n",
    "ax1= plt.subplot(121)\n",
    "pd.crosstab(df['housing'],df['y']).plot(kind = 'bar', stacked = True, color = ['Gray', 'pink'],ax=ax1)\n",
    "ax2= plt.subplot(122)\n",
    "pd.crosstab(df['loan'],df['y']).plot(kind = 'bar', stacked = True,  color = ['Gray', 'pink'],ax=ax2)"
   ]
  },
  {
   "cell_type": "code",
   "execution_count": null,
   "metadata": {
    "colab": {
     "base_uri": "https://localhost:8080/",
     "height": 664
    },
    "collapsed": false,
    "id": "ZwOmq5ylPwKt",
    "outputId": "a4e1388e-9084-4a56-8d5f-f58231fe2e94"
   },
   "outputs": [
    {
     "data": {
      "text/plain": [
       "<matplotlib.axes._subplots.AxesSubplot at 0x7f2642402050>"
      ]
     },
     "execution_count": 42,
     "metadata": {},
     "output_type": "execute_result"
    },
    {
     "data": {
      "image/png": "[encoded data removed]",
      "text/plain": [
       "<Figure size 1440x720 with 3 Axes>"
      ]
     },
     "metadata": {
      "needs_background": "light"
     },
     "output_type": "display_data"
    }
   ],
   "source": [
    "fig, ax = plt.subplots(1,3,figsize=(20,10))\n",
    "ax1= plt.subplot(131)\n",
    "pd.crosstab(df['month'],df['y']).plot(kind = 'bar', stacked = True, color = ['Gray', 'pink'],ax=ax1)\n",
    "ax2= plt.subplot(132)\n",
    "pd.crosstab(df['contact'],df['y']).plot(kind = 'bar', stacked = True,  color = ['Gray', 'pink'],ax=ax2)\n",
    "ax3= plt.subplot(133)\n",
    "pd.crosstab(df['poutcome'],df['y']).plot(kind = 'bar', stacked = True,  color = ['Gray', 'pink'],ax=ax3)"
   ]
  },
  {
   "cell_type": "code",
   "execution_count": null,
   "metadata": {
    "colab": {
     "base_uri": "https://localhost:8080/",
     "height": 996
    },
    "collapsed": false,
    "id": "aOol5WACQVtA",
    "outputId": "b5130536-4ddf-4cc6-95e6-2957c8f73d15"
   },
   "outputs": [
    {
     "data": {
      "text/plain": [
       "<matplotlib.axes._subplots.AxesSubplot at 0x7f2641a0eb50>"
      ]
     },
     "execution_count": 44,
     "metadata": {},
     "output_type": "execute_result"
    },
    {
     "data": {
      "image/png": "[encoded data removed]",
      "text/plain": [
       "<Figure size 2160x1440 with 9 Axes>"
      ]
     },
     "metadata": {
      "needs_background": "light"
     },
     "output_type": "display_data"
    }
   ],
   "source": [
    "# Bar plot of every category for each variable\n",
    "\n",
    "fig, ax = plt.subplots(3,3,figsize=(30,20))\n",
    "ax1= plt.subplot(331)\n",
    "sns.countplot(x = df['job'],ax=ax1)\n",
    "ax2= plt.subplot(332)\n",
    "sns.countplot(x = df['marital'],ax=ax2)\n",
    "ax3= plt.subplot(333)\n",
    "sns.countplot(x = df['education'],ax=ax3)\n",
    "ax4= plt.subplot(334)\n",
    "sns.countplot(x = df['default'],ax=ax4)\n",
    "ax5= plt.subplot(335)\n",
    "sns.countplot(x = df['housing'],ax=ax5)\n",
    "ax6= plt.subplot(336)\n",
    "sns.countplot(x = df['loan'],ax=ax6)\n",
    "ax7= plt.subplot(337)\n",
    "sns.countplot(x = df['month'],ax=ax7)\n",
    "ax8= plt.subplot(338)\n",
    "sns.countplot(x = df['contact'],ax=ax8)\n",
    "ax9= plt.subplot(339)\n",
    "sns.countplot(x = df['poutcome'],ax=ax9)\n",
    "\n"
   ]
  },
  {
   "cell_type": "markdown",
   "metadata": {
    "id": "GJMY3lyDS6Gg"
   },
   "source": [
    "### Numerical Variables"
   ]
  },
  {
   "cell_type": "markdown",
   "metadata": {
    "id": "x-5viGI4VDkF"
   },
   "source": [
    "Ignored \"duration\" in this part because we'll need to drop it anyways."
   ]
  },
  {
   "cell_type": "code",
   "execution_count": null,
   "metadata": {
    "colab": {
     "base_uri": "https://localhost:8080/",
     "height": 1000
    },
    "collapsed": false,
    "id": "mlWe_v8XTC_f",
    "outputId": "92eefcf9-fbd5-4b13-80f4-be5bfe6275fe"
   },
   "outputs": [
    {
     "data": {
      "text/plain": [
       "array([[<matplotlib.axes._subplots.AxesSubplot object at 0x7f263fc61190>,\n",
       "        <matplotlib.axes._subplots.AxesSubplot object at 0x7f263fc0f710>],\n",
       "       [<matplotlib.axes._subplots.AxesSubplot object at 0x7f263fc41a50>,\n",
       "        <matplotlib.axes._subplots.AxesSubplot object at 0x7f263fbf6f50>],\n",
       "       [<matplotlib.axes._subplots.AxesSubplot object at 0x7f263fbb8490>,\n",
       "        <matplotlib.axes._subplots.AxesSubplot object at 0x7f263fb6d990>]],\n",
       "      dtype=object)"
      ]
     },
     "execution_count": 48,
     "metadata": {},
     "output_type": "execute_result"
    },
    {
     "data": {
      "image/png": "[encoded data removed]",
      "text/plain": [
       "<Figure size 1080x1080 with 6 Axes>"
      ]
     },
     "metadata": {
      "needs_background": "light"
     },
     "output_type": "display_data"
    }
   ],
   "source": [
    "num_col = ['age','balance','pdays','campaign','previous','day']\n",
    "df.hist(num_col,figsize = (15,15))"
   ]
  },
  {
   "cell_type": "code",
   "execution_count": null,
   "metadata": {
    "colab": {
     "base_uri": "https://localhost:8080/",
     "height": 1000
    },
    "collapsed": false,
    "id": "5mCZMuQtU-gM",
    "outputId": "368194f1-d7a1-43ec-a276-8e1e188b031b"
   },
   "outputs": [
    {
     "data": {
      "text/plain": [
       "<matplotlib.axes._subplots.AxesSubplot at 0x7f263ee0dc50>"
      ]
     },
     "execution_count": 53,
     "metadata": {},
     "output_type": "execute_result"
    },
    {
     "data": {
      "image/png": "[encoded data removed]",
      "text/plain": [
       "<Figure size 1080x1800 with 6 Axes>"
      ]
     },
     "metadata": {
      "needs_background": "light"
     },
     "output_type": "display_data"
    }
   ],
   "source": [
    "# Boxplots\n",
    "fig, ax = plt.subplots(3,2,figsize=(15,25))\n",
    "ax1= plt.subplot(321)\n",
    "df.boxplot(column = ['campaign'],ax=ax1)\n",
    "ax2= plt.subplot(322)\n",
    "df.boxplot(column = ['age'],ax=ax2)\n",
    "ax3= plt.subplot(323)\n",
    "df.boxplot(column = ['balance'],ax=ax3)\n",
    "ax4= plt.subplot(324)\n",
    "df.boxplot(column = ['day'],ax=ax4)\n",
    "ax5= plt.subplot(325)\n",
    "df.boxplot(column = ['pdays'],ax=ax5)\n",
    "ax6= plt.subplot(326)\n",
    "df.boxplot(column = ['previous'],ax=ax6)"
   ]
  },
  {
   "cell_type": "markdown",
   "metadata": {
    "id": "gBrW_YfM7872"
   },
   "source": [
    "# Data Preprocessing"
   ]
  },
  {
   "cell_type": "markdown",
   "metadata": {
    "id": "n0gkSteJWbc1"
   },
   "source": [
    "Dropping variables"
   ]
  },
  {
   "cell_type": "code",
   "execution_count": 4,
   "metadata": {
    "colab": {
     "base_uri": "https://localhost:8080/",
     "height": 206
    },
    "collapsed": false,
    "id": "aXZX26BmIOvK",
    "outputId": "550cfe33-2130-4e1e-9710-0cd2b7e26437"
   },
   "outputs": [
    {
     "data": {
      "text/html": [
       "<div>\n",
       "<style scoped>\n",
       "    .dataframe tbody tr th:only-of-type {\n",
       "        vertical-align: middle;\n",
       "    }\n",
       "\n",
       "    .dataframe tbody tr th {\n",
       "        vertical-align: top;\n",
       "    }\n",
       "\n",
       "    .dataframe thead th {\n",
       "        text-align: right;\n",
       "    }\n",
       "</style>\n",
       "<table border=\"1\" class=\"dataframe\">\n",
       "  <thead>\n",
       "    <tr style=\"text-align: right;\">\n",
       "      <th></th>\n",
       "      <th>age</th>\n",
       "      <th>job</th>\n",
       "      <th>marital</th>\n",
       "      <th>education</th>\n",
       "      <th>default</th>\n",
       "      <th>balance</th>\n",
       "      <th>housing</th>\n",
       "      <th>loan</th>\n",
       "      <th>day</th>\n",
       "      <th>month</th>\n",
       "      <th>campaign</th>\n",
       "      <th>pdays</th>\n",
       "      <th>previous</th>\n",
       "      <th>y</th>\n",
       "    </tr>\n",
       "  </thead>\n",
       "  <tbody>\n",
       "    <tr>\n",
       "      <th>0</th>\n",
       "      <td>58</td>\n",
       "      <td>management</td>\n",
       "      <td>married</td>\n",
       "      <td>tertiary</td>\n",
       "      <td>no</td>\n",
       "      <td>2143</td>\n",
       "      <td>yes</td>\n",
       "      <td>no</td>\n",
       "      <td>5</td>\n",
       "      <td>may</td>\n",
       "      <td>1</td>\n",
       "      <td>-1</td>\n",
       "      <td>0</td>\n",
       "      <td>0</td>\n",
       "    </tr>\n",
       "    <tr>\n",
       "      <th>1</th>\n",
       "      <td>44</td>\n",
       "      <td>technician</td>\n",
       "      <td>single</td>\n",
       "      <td>secondary</td>\n",
       "      <td>no</td>\n",
       "      <td>29</td>\n",
       "      <td>yes</td>\n",
       "      <td>no</td>\n",
       "      <td>5</td>\n",
       "      <td>may</td>\n",
       "      <td>1</td>\n",
       "      <td>-1</td>\n",
       "      <td>0</td>\n",
       "      <td>0</td>\n",
       "    </tr>\n",
       "    <tr>\n",
       "      <th>2</th>\n",
       "      <td>33</td>\n",
       "      <td>entrepreneur</td>\n",
       "      <td>married</td>\n",
       "      <td>secondary</td>\n",
       "      <td>no</td>\n",
       "      <td>2</td>\n",
       "      <td>yes</td>\n",
       "      <td>yes</td>\n",
       "      <td>5</td>\n",
       "      <td>may</td>\n",
       "      <td>1</td>\n",
       "      <td>-1</td>\n",
       "      <td>0</td>\n",
       "      <td>0</td>\n",
       "    </tr>\n",
       "    <tr>\n",
       "      <th>3</th>\n",
       "      <td>47</td>\n",
       "      <td>blue-collar</td>\n",
       "      <td>married</td>\n",
       "      <td>unknown</td>\n",
       "      <td>no</td>\n",
       "      <td>1506</td>\n",
       "      <td>yes</td>\n",
       "      <td>no</td>\n",
       "      <td>5</td>\n",
       "      <td>may</td>\n",
       "      <td>1</td>\n",
       "      <td>-1</td>\n",
       "      <td>0</td>\n",
       "      <td>0</td>\n",
       "    </tr>\n",
       "    <tr>\n",
       "      <th>4</th>\n",
       "      <td>33</td>\n",
       "      <td>unknown</td>\n",
       "      <td>single</td>\n",
       "      <td>unknown</td>\n",
       "      <td>no</td>\n",
       "      <td>1</td>\n",
       "      <td>no</td>\n",
       "      <td>no</td>\n",
       "      <td>5</td>\n",
       "      <td>may</td>\n",
       "      <td>1</td>\n",
       "      <td>-1</td>\n",
       "      <td>0</td>\n",
       "      <td>0</td>\n",
       "    </tr>\n",
       "  </tbody>\n",
       "</table>\n",
       "</div>"
      ],
      "text/plain": [
       "   age           job  marital  education  ... campaign  pdays previous  y\n",
       "0   58    management  married   tertiary  ...        1     -1        0  0\n",
       "1   44    technician   single  secondary  ...        1     -1        0  0\n",
       "2   33  entrepreneur  married  secondary  ...        1     -1        0  0\n",
       "3   47   blue-collar  married    unknown  ...        1     -1        0  0\n",
       "4   33       unknown   single    unknown  ...        1     -1        0  0\n",
       "\n",
       "[5 rows x 14 columns]"
      ]
     },
     "execution_count": 4,
     "metadata": {},
     "output_type": "execute_result"
    }
   ],
   "source": [
    "# duration for reasons stated previously\n",
    "# drop \"contact\" and \"poutcome\" because the \"unknown\" proportions are too high\n",
    "drop_cols = ['duration','poutcome','contact']\n",
    "df.drop(labels=drop_cols, axis = 1,inplace=True)\n",
    "df.head()"
   ]
  },
  {
   "cell_type": "code",
   "execution_count": 5,
   "metadata": {
    "collapsed": true,
    "id": "U8JQiUwJWko6"
   },
   "outputs": [],
   "source": [
    "df.replace('unknown',np.NaN, inplace = True)"
   ]
  },
  {
   "cell_type": "markdown",
   "metadata": {
    "id": "WUWHwz_Lg4EA"
   },
   "source": [
    "Imputing \"unknown\" values "
   ]
  },
  {
   "cell_type": "code",
   "execution_count": 6,
   "metadata": {
    "colab": {
     "base_uri": "https://localhost:8080/"
    },
    "collapsed": false,
    "id": "o7L2ssvuXfAz",
    "outputId": "95b66433-415b-48f7-82a1-df7779f0523f"
   },
   "outputs": [
    {
     "data": {
      "text/plain": [
       "secondary    23202\n",
       "tertiary     13301\n",
       "primary       6851\n",
       "Name: education, dtype: int64"
      ]
     },
     "execution_count": 6,
     "metadata": {},
     "output_type": "execute_result"
    }
   ],
   "source": [
    "# Impute \"unknown\" values for \"job\" and \"education\"\n",
    "# So 'Secondary' education is the majority class\n",
    "df['education'].value_counts() "
   ]
  },
  {
   "cell_type": "code",
   "execution_count": 7,
   "metadata": {
    "colab": {
     "base_uri": "https://localhost:8080/"
    },
    "collapsed": false,
    "id": "xAnnmtb-YO4V",
    "outputId": "74a00061-bbc9-4a54-c1a2-cd983dd7a2ea"
   },
   "outputs": [
    {
     "data": {
      "text/plain": [
       "blue-collar      9732\n",
       "management       9458\n",
       "technician       7597\n",
       "admin.           5171\n",
       "services         4154\n",
       "retired          2264\n",
       "self-employed    1579\n",
       "entrepreneur     1487\n",
       "unemployed       1303\n",
       "housemaid        1240\n",
       "student           938\n",
       "Name: job, dtype: int64"
      ]
     },
     "execution_count": 7,
     "metadata": {},
     "output_type": "execute_result"
    }
   ],
   "source": [
    "# \"blue-collar\" is the majority class\n",
    "df['job'].value_counts()"
   ]
  },
  {
   "cell_type": "code",
   "execution_count": 8,
   "metadata": {
    "collapsed": true,
    "id": "CHrssxg9YVjg"
   },
   "outputs": [],
   "source": [
    "df['education'].fillna('secondary', inplace = True)\n",
    "df['job'].fillna('blue-collar', inplace = True)"
   ]
  },
  {
   "cell_type": "markdown",
   "metadata": {
    "id": "LqRZFIIbg2KA"
   },
   "source": [
    "Changing skewness for variables with only positive values"
   ]
  },
  {
   "cell_type": "code",
   "execution_count": 9,
   "metadata": {
    "collapsed": true,
    "id": "kfl7HdLuZmfr"
   },
   "outputs": [],
   "source": [
    "# changing skewness using boxcox transformation\n",
    "import scipy.stats as st\n",
    "df['age'],i = st.boxcox(df['age']+1)\n",
    "#df['balance'],i = st.boxcox(df['balance']+1)\n",
    "df['day'],i = st.boxcox(df['day']+1)\n",
    "df['campaign'],i = st.boxcox(df['campaign']+1)\n",
    "#df['pdays'],i = st.boxcox(df['pdays']+1)\n",
    "df['previous'],i = st.boxcox(df['previous']+1)"
   ]
  },
  {
   "cell_type": "markdown",
   "metadata": {
    "id": "2lfNsZ62hcEL"
   },
   "source": [
    "Scale numerical data and creaty dummy variables for categorical data"
   ]
  },
  {
   "cell_type": "code",
   "execution_count": 10,
   "metadata": {
    "colab": {
     "base_uri": "https://localhost:8080/"
    },
    "collapsed": false,
    "id": "1H9uGb2QhI3J",
    "outputId": "94936062-c202-4242-dc43-b83d6b1e8e76"
   },
   "outputs": [
    {
     "name": "stdout",
     "output_type": "stream",
     "text": [
      "['age', 'balance', 'day', 'campaign', 'pdays', 'previous'] ['job', 'marital', 'education', 'default', 'housing', 'loan', 'month']\n"
     ]
    }
   ],
   "source": [
    "num_cols = [col for col in df.drop('y',axis=1).select_dtypes(['int64','float64'])]\n",
    "cat_cols = [col for col in df.select_dtypes(['object'])]\n",
    "print(num_cols,cat_cols)"
   ]
  },
  {
   "cell_type": "code",
   "execution_count": null,
   "metadata": {
    "collapsed": true,
    "id": "CHudI2UgiS4D"
   },
   "outputs": [],
   "source": [
    "# Check distributions again\n",
    "#df.hist(column = num_cols, figsize = (20,20))"
   ]
  },
  {
   "cell_type": "code",
   "execution_count": 11,
   "metadata": {
    "colab": {
     "base_uri": "https://localhost:8080/",
     "height": 206
    },
    "collapsed": false,
    "id": "G_Yn9PZdjNbT",
    "outputId": "e4964df8-6b92-4911-cf88-71fc2529b0c9"
   },
   "outputs": [
    {
     "data": {
      "text/html": [
       "<div>\n",
       "<style scoped>\n",
       "    .dataframe tbody tr th:only-of-type {\n",
       "        vertical-align: middle;\n",
       "    }\n",
       "\n",
       "    .dataframe tbody tr th {\n",
       "        vertical-align: top;\n",
       "    }\n",
       "\n",
       "    .dataframe thead th {\n",
       "        text-align: right;\n",
       "    }\n",
       "</style>\n",
       "<table border=\"1\" class=\"dataframe\">\n",
       "  <thead>\n",
       "    <tr style=\"text-align: right;\">\n",
       "      <th></th>\n",
       "      <th>age</th>\n",
       "      <th>balance</th>\n",
       "      <th>day</th>\n",
       "      <th>campaign</th>\n",
       "      <th>pdays</th>\n",
       "      <th>previous</th>\n",
       "    </tr>\n",
       "  </thead>\n",
       "  <tbody>\n",
       "    <tr>\n",
       "      <th>0</th>\n",
       "      <td>0.731404</td>\n",
       "      <td>0.092259</td>\n",
       "      <td>0.195769</td>\n",
       "      <td>0.0</td>\n",
       "      <td>0.0</td>\n",
       "      <td>0.0</td>\n",
       "    </tr>\n",
       "    <tr>\n",
       "      <th>1</th>\n",
       "      <td>0.570729</td>\n",
       "      <td>0.073067</td>\n",
       "      <td>0.195769</td>\n",
       "      <td>0.0</td>\n",
       "      <td>0.0</td>\n",
       "      <td>0.0</td>\n",
       "    </tr>\n",
       "    <tr>\n",
       "      <th>2</th>\n",
       "      <td>0.395437</td>\n",
       "      <td>0.072822</td>\n",
       "      <td>0.195769</td>\n",
       "      <td>0.0</td>\n",
       "      <td>0.0</td>\n",
       "      <td>0.0</td>\n",
       "    </tr>\n",
       "    <tr>\n",
       "      <th>3</th>\n",
       "      <td>0.609772</td>\n",
       "      <td>0.086476</td>\n",
       "      <td>0.195769</td>\n",
       "      <td>0.0</td>\n",
       "      <td>0.0</td>\n",
       "      <td>0.0</td>\n",
       "    </tr>\n",
       "    <tr>\n",
       "      <th>4</th>\n",
       "      <td>0.395437</td>\n",
       "      <td>0.072812</td>\n",
       "      <td>0.195769</td>\n",
       "      <td>0.0</td>\n",
       "      <td>0.0</td>\n",
       "      <td>0.0</td>\n",
       "    </tr>\n",
       "  </tbody>\n",
       "</table>\n",
       "</div>"
      ],
      "text/plain": [
       "        age   balance       day  campaign  pdays  previous\n",
       "0  0.731404  0.092259  0.195769       0.0    0.0       0.0\n",
       "1  0.570729  0.073067  0.195769       0.0    0.0       0.0\n",
       "2  0.395437  0.072822  0.195769       0.0    0.0       0.0\n",
       "3  0.609772  0.086476  0.195769       0.0    0.0       0.0\n",
       "4  0.395437  0.072812  0.195769       0.0    0.0       0.0"
      ]
     },
     "execution_count": 11,
     "metadata": {},
     "output_type": "execute_result"
    }
   ],
   "source": [
    "min_max_scaler = MinMaxScaler()\n",
    "X_minmax = min_max_scaler.fit_transform(df[num_cols])\n",
    "num_df = pd.DataFrame(X_minmax,columns=num_cols)\n",
    "num_df.head()"
   ]
  },
  {
   "cell_type": "code",
   "execution_count": null,
   "metadata": {
    "collapsed": true,
    "id": "gpy0g3Nwj_0p"
   },
   "outputs": [],
   "source": [
    "# num_df.hist(column = num_cols,figsize = (20,20))"
   ]
  },
  {
   "cell_type": "code",
   "execution_count": 12,
   "metadata": {
    "colab": {
     "base_uri": "https://localhost:8080/",
     "height": 243
    },
    "collapsed": false,
    "id": "Wk7OvuvFkA2G",
    "outputId": "4e0f9206-4777-445f-f701-fa043368c57c"
   },
   "outputs": [
    {
     "data": {
      "text/html": [
       "<div>\n",
       "<style scoped>\n",
       "    .dataframe tbody tr th:only-of-type {\n",
       "        vertical-align: middle;\n",
       "    }\n",
       "\n",
       "    .dataframe tbody tr th {\n",
       "        vertical-align: top;\n",
       "    }\n",
       "\n",
       "    .dataframe thead th {\n",
       "        text-align: right;\n",
       "    }\n",
       "</style>\n",
       "<table border=\"1\" class=\"dataframe\">\n",
       "  <thead>\n",
       "    <tr style=\"text-align: right;\">\n",
       "      <th></th>\n",
       "      <th>job_admin.</th>\n",
       "      <th>job_blue-collar</th>\n",
       "      <th>job_entrepreneur</th>\n",
       "      <th>job_housemaid</th>\n",
       "      <th>job_management</th>\n",
       "      <th>job_retired</th>\n",
       "      <th>job_self-employed</th>\n",
       "      <th>job_services</th>\n",
       "      <th>job_student</th>\n",
       "      <th>job_technician</th>\n",
       "      <th>job_unemployed</th>\n",
       "      <th>marital_divorced</th>\n",
       "      <th>marital_married</th>\n",
       "      <th>marital_single</th>\n",
       "      <th>education_primary</th>\n",
       "      <th>education_secondary</th>\n",
       "      <th>education_tertiary</th>\n",
       "      <th>default_no</th>\n",
       "      <th>default_yes</th>\n",
       "      <th>housing_no</th>\n",
       "      <th>housing_yes</th>\n",
       "      <th>loan_no</th>\n",
       "      <th>loan_yes</th>\n",
       "      <th>month_apr</th>\n",
       "      <th>month_aug</th>\n",
       "      <th>month_dec</th>\n",
       "      <th>month_feb</th>\n",
       "      <th>month_jan</th>\n",
       "      <th>month_jul</th>\n",
       "      <th>month_jun</th>\n",
       "      <th>month_mar</th>\n",
       "      <th>month_may</th>\n",
       "      <th>month_nov</th>\n",
       "      <th>month_oct</th>\n",
       "      <th>month_sep</th>\n",
       "    </tr>\n",
       "  </thead>\n",
       "  <tbody>\n",
       "    <tr>\n",
       "      <th>0</th>\n",
       "      <td>0</td>\n",
       "      <td>0</td>\n",
       "      <td>0</td>\n",
       "      <td>0</td>\n",
       "      <td>1</td>\n",
       "      <td>0</td>\n",
       "      <td>0</td>\n",
       "      <td>0</td>\n",
       "      <td>0</td>\n",
       "      <td>0</td>\n",
       "      <td>0</td>\n",
       "      <td>0</td>\n",
       "      <td>1</td>\n",
       "      <td>0</td>\n",
       "      <td>0</td>\n",
       "      <td>0</td>\n",
       "      <td>1</td>\n",
       "      <td>1</td>\n",
       "      <td>0</td>\n",
       "      <td>0</td>\n",
       "      <td>1</td>\n",
       "      <td>1</td>\n",
       "      <td>0</td>\n",
       "      <td>0</td>\n",
       "      <td>0</td>\n",
       "      <td>0</td>\n",
       "      <td>0</td>\n",
       "      <td>0</td>\n",
       "      <td>0</td>\n",
       "      <td>0</td>\n",
       "      <td>0</td>\n",
       "      <td>1</td>\n",
       "      <td>0</td>\n",
       "      <td>0</td>\n",
       "      <td>0</td>\n",
       "    </tr>\n",
       "    <tr>\n",
       "      <th>1</th>\n",
       "      <td>0</td>\n",
       "      <td>0</td>\n",
       "      <td>0</td>\n",
       "      <td>0</td>\n",
       "      <td>0</td>\n",
       "      <td>0</td>\n",
       "      <td>0</td>\n",
       "      <td>0</td>\n",
       "      <td>0</td>\n",
       "      <td>1</td>\n",
       "      <td>0</td>\n",
       "      <td>0</td>\n",
       "      <td>0</td>\n",
       "      <td>1</td>\n",
       "      <td>0</td>\n",
       "      <td>1</td>\n",
       "      <td>0</td>\n",
       "      <td>1</td>\n",
       "      <td>0</td>\n",
       "      <td>0</td>\n",
       "      <td>1</td>\n",
       "      <td>1</td>\n",
       "      <td>0</td>\n",
       "      <td>0</td>\n",
       "      <td>0</td>\n",
       "      <td>0</td>\n",
       "      <td>0</td>\n",
       "      <td>0</td>\n",
       "      <td>0</td>\n",
       "      <td>0</td>\n",
       "      <td>0</td>\n",
       "      <td>1</td>\n",
       "      <td>0</td>\n",
       "      <td>0</td>\n",
       "      <td>0</td>\n",
       "    </tr>\n",
       "    <tr>\n",
       "      <th>2</th>\n",
       "      <td>0</td>\n",
       "      <td>0</td>\n",
       "      <td>1</td>\n",
       "      <td>0</td>\n",
       "      <td>0</td>\n",
       "      <td>0</td>\n",
       "      <td>0</td>\n",
       "      <td>0</td>\n",
       "      <td>0</td>\n",
       "      <td>0</td>\n",
       "      <td>0</td>\n",
       "      <td>0</td>\n",
       "      <td>1</td>\n",
       "      <td>0</td>\n",
       "      <td>0</td>\n",
       "      <td>1</td>\n",
       "      <td>0</td>\n",
       "      <td>1</td>\n",
       "      <td>0</td>\n",
       "      <td>0</td>\n",
       "      <td>1</td>\n",
       "      <td>0</td>\n",
       "      <td>1</td>\n",
       "      <td>0</td>\n",
       "      <td>0</td>\n",
       "      <td>0</td>\n",
       "      <td>0</td>\n",
       "      <td>0</td>\n",
       "      <td>0</td>\n",
       "      <td>0</td>\n",
       "      <td>0</td>\n",
       "      <td>1</td>\n",
       "      <td>0</td>\n",
       "      <td>0</td>\n",
       "      <td>0</td>\n",
       "    </tr>\n",
       "    <tr>\n",
       "      <th>3</th>\n",
       "      <td>0</td>\n",
       "      <td>1</td>\n",
       "      <td>0</td>\n",
       "      <td>0</td>\n",
       "      <td>0</td>\n",
       "      <td>0</td>\n",
       "      <td>0</td>\n",
       "      <td>0</td>\n",
       "      <td>0</td>\n",
       "      <td>0</td>\n",
       "      <td>0</td>\n",
       "      <td>0</td>\n",
       "      <td>1</td>\n",
       "      <td>0</td>\n",
       "      <td>0</td>\n",
       "      <td>1</td>\n",
       "      <td>0</td>\n",
       "      <td>1</td>\n",
       "      <td>0</td>\n",
       "      <td>0</td>\n",
       "      <td>1</td>\n",
       "      <td>1</td>\n",
       "      <td>0</td>\n",
       "      <td>0</td>\n",
       "      <td>0</td>\n",
       "      <td>0</td>\n",
       "      <td>0</td>\n",
       "      <td>0</td>\n",
       "      <td>0</td>\n",
       "      <td>0</td>\n",
       "      <td>0</td>\n",
       "      <td>1</td>\n",
       "      <td>0</td>\n",
       "      <td>0</td>\n",
       "      <td>0</td>\n",
       "    </tr>\n",
       "    <tr>\n",
       "      <th>4</th>\n",
       "      <td>0</td>\n",
       "      <td>1</td>\n",
       "      <td>0</td>\n",
       "      <td>0</td>\n",
       "      <td>0</td>\n",
       "      <td>0</td>\n",
       "      <td>0</td>\n",
       "      <td>0</td>\n",
       "      <td>0</td>\n",
       "      <td>0</td>\n",
       "      <td>0</td>\n",
       "      <td>0</td>\n",
       "      <td>0</td>\n",
       "      <td>1</td>\n",
       "      <td>0</td>\n",
       "      <td>1</td>\n",
       "      <td>0</td>\n",
       "      <td>1</td>\n",
       "      <td>0</td>\n",
       "      <td>1</td>\n",
       "      <td>0</td>\n",
       "      <td>1</td>\n",
       "      <td>0</td>\n",
       "      <td>0</td>\n",
       "      <td>0</td>\n",
       "      <td>0</td>\n",
       "      <td>0</td>\n",
       "      <td>0</td>\n",
       "      <td>0</td>\n",
       "      <td>0</td>\n",
       "      <td>0</td>\n",
       "      <td>1</td>\n",
       "      <td>0</td>\n",
       "      <td>0</td>\n",
       "      <td>0</td>\n",
       "    </tr>\n",
       "  </tbody>\n",
       "</table>\n",
       "</div>"
      ],
      "text/plain": [
       "   job_admin.  job_blue-collar  ...  month_oct  month_sep\n",
       "0           0                0  ...          0          0\n",
       "1           0                0  ...          0          0\n",
       "2           0                0  ...          0          0\n",
       "3           0                1  ...          0          0\n",
       "4           0                1  ...          0          0\n",
       "\n",
       "[5 rows x 35 columns]"
      ]
     },
     "execution_count": 12,
     "metadata": {},
     "output_type": "execute_result"
    }
   ],
   "source": [
    "cat_df = pd.get_dummies(df[cat_cols])\n",
    "cat_df.head()"
   ]
  },
  {
   "cell_type": "code",
   "execution_count": 13,
   "metadata": {
    "colab": {
     "base_uri": "https://localhost:8080/",
     "height": 243
    },
    "collapsed": false,
    "id": "uuzBoNZ8kfpr",
    "outputId": "8a0895c0-3a0c-4e72-f088-c89f8ac0dd9d"
   },
   "outputs": [
    {
     "data": {
      "text/html": [
       "<div>\n",
       "<style scoped>\n",
       "    .dataframe tbody tr th:only-of-type {\n",
       "        vertical-align: middle;\n",
       "    }\n",
       "\n",
       "    .dataframe tbody tr th {\n",
       "        vertical-align: top;\n",
       "    }\n",
       "\n",
       "    .dataframe thead th {\n",
       "        text-align: right;\n",
       "    }\n",
       "</style>\n",
       "<table border=\"1\" class=\"dataframe\">\n",
       "  <thead>\n",
       "    <tr style=\"text-align: right;\">\n",
       "      <th></th>\n",
       "      <th>age</th>\n",
       "      <th>balance</th>\n",
       "      <th>day</th>\n",
       "      <th>campaign</th>\n",
       "      <th>pdays</th>\n",
       "      <th>previous</th>\n",
       "      <th>job_admin.</th>\n",
       "      <th>job_blue-collar</th>\n",
       "      <th>job_entrepreneur</th>\n",
       "      <th>job_housemaid</th>\n",
       "      <th>job_management</th>\n",
       "      <th>job_retired</th>\n",
       "      <th>job_self-employed</th>\n",
       "      <th>job_services</th>\n",
       "      <th>job_student</th>\n",
       "      <th>job_technician</th>\n",
       "      <th>job_unemployed</th>\n",
       "      <th>marital_divorced</th>\n",
       "      <th>marital_married</th>\n",
       "      <th>marital_single</th>\n",
       "      <th>education_primary</th>\n",
       "      <th>education_secondary</th>\n",
       "      <th>education_tertiary</th>\n",
       "      <th>default_no</th>\n",
       "      <th>default_yes</th>\n",
       "      <th>housing_no</th>\n",
       "      <th>housing_yes</th>\n",
       "      <th>loan_no</th>\n",
       "      <th>loan_yes</th>\n",
       "      <th>month_apr</th>\n",
       "      <th>month_aug</th>\n",
       "      <th>month_dec</th>\n",
       "      <th>month_feb</th>\n",
       "      <th>month_jan</th>\n",
       "      <th>month_jul</th>\n",
       "      <th>month_jun</th>\n",
       "      <th>month_mar</th>\n",
       "      <th>month_may</th>\n",
       "      <th>month_nov</th>\n",
       "      <th>month_oct</th>\n",
       "      <th>month_sep</th>\n",
       "      <th>y</th>\n",
       "    </tr>\n",
       "  </thead>\n",
       "  <tbody>\n",
       "    <tr>\n",
       "      <th>0</th>\n",
       "      <td>0.731404</td>\n",
       "      <td>0.092259</td>\n",
       "      <td>0.195769</td>\n",
       "      <td>0.0</td>\n",
       "      <td>0.0</td>\n",
       "      <td>0.0</td>\n",
       "      <td>0</td>\n",
       "      <td>0</td>\n",
       "      <td>0</td>\n",
       "      <td>0</td>\n",
       "      <td>1</td>\n",
       "      <td>0</td>\n",
       "      <td>0</td>\n",
       "      <td>0</td>\n",
       "      <td>0</td>\n",
       "      <td>0</td>\n",
       "      <td>0</td>\n",
       "      <td>0</td>\n",
       "      <td>1</td>\n",
       "      <td>0</td>\n",
       "      <td>0</td>\n",
       "      <td>0</td>\n",
       "      <td>1</td>\n",
       "      <td>1</td>\n",
       "      <td>0</td>\n",
       "      <td>0</td>\n",
       "      <td>1</td>\n",
       "      <td>1</td>\n",
       "      <td>0</td>\n",
       "      <td>0</td>\n",
       "      <td>0</td>\n",
       "      <td>0</td>\n",
       "      <td>0</td>\n",
       "      <td>0</td>\n",
       "      <td>0</td>\n",
       "      <td>0</td>\n",
       "      <td>0</td>\n",
       "      <td>1</td>\n",
       "      <td>0</td>\n",
       "      <td>0</td>\n",
       "      <td>0</td>\n",
       "      <td>0</td>\n",
       "    </tr>\n",
       "    <tr>\n",
       "      <th>1</th>\n",
       "      <td>0.570729</td>\n",
       "      <td>0.073067</td>\n",
       "      <td>0.195769</td>\n",
       "      <td>0.0</td>\n",
       "      <td>0.0</td>\n",
       "      <td>0.0</td>\n",
       "      <td>0</td>\n",
       "      <td>0</td>\n",
       "      <td>0</td>\n",
       "      <td>0</td>\n",
       "      <td>0</td>\n",
       "      <td>0</td>\n",
       "      <td>0</td>\n",
       "      <td>0</td>\n",
       "      <td>0</td>\n",
       "      <td>1</td>\n",
       "      <td>0</td>\n",
       "      <td>0</td>\n",
       "      <td>0</td>\n",
       "      <td>1</td>\n",
       "      <td>0</td>\n",
       "      <td>1</td>\n",
       "      <td>0</td>\n",
       "      <td>1</td>\n",
       "      <td>0</td>\n",
       "      <td>0</td>\n",
       "      <td>1</td>\n",
       "      <td>1</td>\n",
       "      <td>0</td>\n",
       "      <td>0</td>\n",
       "      <td>0</td>\n",
       "      <td>0</td>\n",
       "      <td>0</td>\n",
       "      <td>0</td>\n",
       "      <td>0</td>\n",
       "      <td>0</td>\n",
       "      <td>0</td>\n",
       "      <td>1</td>\n",
       "      <td>0</td>\n",
       "      <td>0</td>\n",
       "      <td>0</td>\n",
       "      <td>0</td>\n",
       "    </tr>\n",
       "    <tr>\n",
       "      <th>2</th>\n",
       "      <td>0.395437</td>\n",
       "      <td>0.072822</td>\n",
       "      <td>0.195769</td>\n",
       "      <td>0.0</td>\n",
       "      <td>0.0</td>\n",
       "      <td>0.0</td>\n",
       "      <td>0</td>\n",
       "      <td>0</td>\n",
       "      <td>1</td>\n",
       "      <td>0</td>\n",
       "      <td>0</td>\n",
       "      <td>0</td>\n",
       "      <td>0</td>\n",
       "      <td>0</td>\n",
       "      <td>0</td>\n",
       "      <td>0</td>\n",
       "      <td>0</td>\n",
       "      <td>0</td>\n",
       "      <td>1</td>\n",
       "      <td>0</td>\n",
       "      <td>0</td>\n",
       "      <td>1</td>\n",
       "      <td>0</td>\n",
       "      <td>1</td>\n",
       "      <td>0</td>\n",
       "      <td>0</td>\n",
       "      <td>1</td>\n",
       "      <td>0</td>\n",
       "      <td>1</td>\n",
       "      <td>0</td>\n",
       "      <td>0</td>\n",
       "      <td>0</td>\n",
       "      <td>0</td>\n",
       "      <td>0</td>\n",
       "      <td>0</td>\n",
       "      <td>0</td>\n",
       "      <td>0</td>\n",
       "      <td>1</td>\n",
       "      <td>0</td>\n",
       "      <td>0</td>\n",
       "      <td>0</td>\n",
       "      <td>0</td>\n",
       "    </tr>\n",
       "    <tr>\n",
       "      <th>3</th>\n",
       "      <td>0.609772</td>\n",
       "      <td>0.086476</td>\n",
       "      <td>0.195769</td>\n",
       "      <td>0.0</td>\n",
       "      <td>0.0</td>\n",
       "      <td>0.0</td>\n",
       "      <td>0</td>\n",
       "      <td>1</td>\n",
       "      <td>0</td>\n",
       "      <td>0</td>\n",
       "      <td>0</td>\n",
       "      <td>0</td>\n",
       "      <td>0</td>\n",
       "      <td>0</td>\n",
       "      <td>0</td>\n",
       "      <td>0</td>\n",
       "      <td>0</td>\n",
       "      <td>0</td>\n",
       "      <td>1</td>\n",
       "      <td>0</td>\n",
       "      <td>0</td>\n",
       "      <td>1</td>\n",
       "      <td>0</td>\n",
       "      <td>1</td>\n",
       "      <td>0</td>\n",
       "      <td>0</td>\n",
       "      <td>1</td>\n",
       "      <td>1</td>\n",
       "      <td>0</td>\n",
       "      <td>0</td>\n",
       "      <td>0</td>\n",
       "      <td>0</td>\n",
       "      <td>0</td>\n",
       "      <td>0</td>\n",
       "      <td>0</td>\n",
       "      <td>0</td>\n",
       "      <td>0</td>\n",
       "      <td>1</td>\n",
       "      <td>0</td>\n",
       "      <td>0</td>\n",
       "      <td>0</td>\n",
       "      <td>0</td>\n",
       "    </tr>\n",
       "    <tr>\n",
       "      <th>4</th>\n",
       "      <td>0.395437</td>\n",
       "      <td>0.072812</td>\n",
       "      <td>0.195769</td>\n",
       "      <td>0.0</td>\n",
       "      <td>0.0</td>\n",
       "      <td>0.0</td>\n",
       "      <td>0</td>\n",
       "      <td>1</td>\n",
       "      <td>0</td>\n",
       "      <td>0</td>\n",
       "      <td>0</td>\n",
       "      <td>0</td>\n",
       "      <td>0</td>\n",
       "      <td>0</td>\n",
       "      <td>0</td>\n",
       "      <td>0</td>\n",
       "      <td>0</td>\n",
       "      <td>0</td>\n",
       "      <td>0</td>\n",
       "      <td>1</td>\n",
       "      <td>0</td>\n",
       "      <td>1</td>\n",
       "      <td>0</td>\n",
       "      <td>1</td>\n",
       "      <td>0</td>\n",
       "      <td>1</td>\n",
       "      <td>0</td>\n",
       "      <td>1</td>\n",
       "      <td>0</td>\n",
       "      <td>0</td>\n",
       "      <td>0</td>\n",
       "      <td>0</td>\n",
       "      <td>0</td>\n",
       "      <td>0</td>\n",
       "      <td>0</td>\n",
       "      <td>0</td>\n",
       "      <td>0</td>\n",
       "      <td>1</td>\n",
       "      <td>0</td>\n",
       "      <td>0</td>\n",
       "      <td>0</td>\n",
       "      <td>0</td>\n",
       "    </tr>\n",
       "  </tbody>\n",
       "</table>\n",
       "</div>"
      ],
      "text/plain": [
       "        age   balance       day  campaign  ...  month_nov  month_oct  month_sep  y\n",
       "0  0.731404  0.092259  0.195769       0.0  ...          0          0          0  0\n",
       "1  0.570729  0.073067  0.195769       0.0  ...          0          0          0  0\n",
       "2  0.395437  0.072822  0.195769       0.0  ...          0          0          0  0\n",
       "3  0.609772  0.086476  0.195769       0.0  ...          0          0          0  0\n",
       "4  0.395437  0.072812  0.195769       0.0  ...          0          0          0  0\n",
       "\n",
       "[5 rows x 42 columns]"
      ]
     },
     "execution_count": 13,
     "metadata": {},
     "output_type": "execute_result"
    }
   ],
   "source": [
    "# After scaling and creating dummies, combine dataframes\n",
    "df_new = pd.concat([num_df, cat_df,df['y']],axis=1)\n",
    "df_new.head()"
   ]
  },
  {
   "cell_type": "code",
   "execution_count": 14,
   "metadata": {
    "collapsed": true,
    "id": "CD_4EDfYk4aL"
   },
   "outputs": [],
   "source": [
    "#Separate the predictors and response\n",
    "X = df_new.loc[:, df_new.columns !='y']\n",
    "y = df_new.loc[:, df_new.columns == 'y']"
   ]
  },
  {
   "cell_type": "markdown",
   "metadata": {
    "id": "nE0Na9y1Yl8p"
   },
   "source": [
    "# Feature Selection and Dimension Reduction "
   ]
  },
  {
   "cell_type": "markdown",
   "metadata": {
    "id": "aDsD10rjIOQH"
   },
   "source": [
    "Besides variables in preprocessing stage, we can try further feature selection. (In the appendix, we also included PCA implementation but since it's not significantly improving the performance and it loses explainability, we will not include this method formally."
   ]
  },
  {
   "cell_type": "code",
   "execution_count": 15,
   "metadata": {
    "colab": {
     "base_uri": "https://localhost:8080/"
    },
    "collapsed": false,
    "id": "smNKq6JxYxc9",
    "outputId": "bac9a195-63db-4b6c-adf3-e0d9f51d345d"
   },
   "outputs": [
    {
     "name": "stdout",
     "output_type": "stream",
     "text": [
      "['age', 'balance', 'campaign', 'pdays', 'previous', 'job_admin.', 'job_blue-collar', 'job_entrepreneur', 'job_housemaid', 'job_management', 'job_self-employed', 'job_services', 'job_technician', 'job_unemployed', 'marital_divorced', 'marital_single', 'education_primary', 'education_secondary', 'housing_no', 'loan_no', 'month_apr', 'month_aug', 'month_dec', 'month_feb', 'month_jul', 'month_jun', 'month_mar', 'month_may', 'month_nov', 'month_oct', 'month_sep']\n"
     ]
    }
   ],
   "source": [
    "#Feature selection using Backward Elimination based on p values of variables\n",
    "cols = list(X.columns)\n",
    "pmax = 1\n",
    "while (len(cols)>0):\n",
    "    p= []\n",
    "    X_1 = X[cols]\n",
    "    X_1 = sm.add_constant(X_1)\n",
    "    model = sm.OLS(y,X_1).fit()\n",
    "    p = pd.Series(model.pvalues.values[1:],index = cols)      \n",
    "    pmax = max(p)\n",
    "    feature_with_p_max = p.idxmax()\n",
    "    if(pmax>0.05):\n",
    "        cols.remove(feature_with_p_max)\n",
    "    else:\n",
    "        break\n",
    "selected_features_BE = cols\n",
    "print(selected_features_BE) "
   ]
  },
  {
   "cell_type": "code",
   "execution_count": 16,
   "metadata": {
    "colab": {
     "base_uri": "https://localhost:8080/"
    },
    "collapsed": false,
    "id": "nklIQuWIGmoO",
    "outputId": "246b63da-f3a7-4107-c094-50e4b552e2cb"
   },
   "outputs": [
    {
     "data": {
      "text/plain": [
       "31"
      ]
     },
     "execution_count": 16,
     "metadata": {},
     "output_type": "execute_result"
    }
   ],
   "source": [
    "len(selected_features_BE)"
   ]
  },
  {
   "cell_type": "code",
   "execution_count": null,
   "metadata": {
    "collapsed": true,
    "id": "aK1wY-YvjdbS"
   },
   "outputs": [],
   "source": [
    "# keep a copy of these features \n",
    "be_selected = ['age', 'balance', 'campaign', 'pdays', 'previous', 'job_admin.', 'job_blue-collar', 'job_entrepreneur', 'job_housemaid', 'job_management',\n",
    "               'job_self-employed', 'job_services', 'job_technician', 'job_unemployed', 'marital_divorced', 'marital_single', 'education_primary', 'education_secondary', \n",
    "               'housing_no', 'loan_no', 'month_apr', 'month_aug', 'month_dec', 'month_feb', 'month_jul', 'month_jun', 'month_mar', 'month_may', 'month_nov', 'month_oct', \n",
    "               'month_sep']"
   ]
  },
  {
   "cell_type": "markdown",
   "metadata": {
    "id": "a47StfZ5ItpY"
   },
   "source": [
    "# Model Exploration and Selection"
   ]
  },
  {
   "cell_type": "markdown",
   "metadata": {
    "id": "JCoGnZJjHcFw"
   },
   "source": [
    "Oversample the training dataset only so that the information from test data won't be leaked to training the models.\n",
    "\n",
    "Our oversampling strategy is to use SMOTETomek function - this method combines the SMOTE ability to generate synthetic data for minority class and Tomek Links ability to remove data from the majority class that is the closest with the minority class data. It not only oversamples, but also \"cleans\" the data a little bit. This will help the model to learn the minority class better."
   ]
  },
  {
   "cell_type": "code",
   "execution_count": 17,
   "metadata": {
    "colab": {
     "base_uri": "https://localhost:8080/"
    },
    "collapsed": false,
    "id": "FB5gMWOKGvIv",
    "outputId": "3dcf9bd4-0d59-4353-ba97-30d425acec8b"
   },
   "outputs": [
    {
     "name": "stdout",
     "output_type": "stream",
     "text": [
      "length of oversampled data is  54410\n",
      "Number of Subscribers in oversampled data 27205\n",
      "Number of Non-Subscribers in oversampled data 27205\n"
     ]
    }
   ],
   "source": [
    "from imblearn.combine import SMOTETomek\n",
    "os = SMOTETomek(random_state=0)\n",
    "X_train, X_test, y_train, y_test = train_test_split(X, y, test_size=0.3, random_state=0)\n",
    "columns = X_train.columns\n",
    "os_data_X, os_data_y = os.fit_resample(X_train, y_train)\n",
    "\n",
    "os_data_X = pd.DataFrame(data=os_data_X,columns=columns)\n",
    "os_data_y = pd.DataFrame(data=os_data_y)\n",
    "print(\"length of oversampled data is \",len(os_data_X))\n",
    "print(\"Number of Subscribers in oversampled data\",len(os_data_y[os_data_y['y']==1]))\n",
    "print(\"Number of Non-Subscribers in oversampled data\",len(os_data_y[os_data_y['y']==0]))"
   ]
  },
  {
   "cell_type": "markdown",
   "metadata": {
    "id": "4FXeHU0XIyER"
   },
   "source": [
    "## Baseline models with default parameters"
   ]
  },
  {
   "cell_type": "code",
   "execution_count": 18,
   "metadata": {
    "collapsed": true,
    "id": "rXuIqUk-HD0-"
   },
   "outputs": [],
   "source": [
    "# Initialize models that we are going to build\n",
    "from sklearn.tree import DecisionTreeClassifier\n",
    "tree = DecisionTreeClassifier(criterion='entropy',random_state=0)\n",
    "\n",
    "from sklearn.linear_model import LogisticRegression\n",
    "logit = LogisticRegression()\n",
    "\n",
    "from sklearn.naive_bayes import GaussianNB\n",
    "nbs = GaussianNB()\n",
    "\n",
    "from sklearn.ensemble import RandomForestClassifier\n",
    "rfc = RandomForestClassifier(n_estimators=100,random_state=0)\n",
    "\n",
    "from sklearn.neighbors import KNeighborsClassifier\n",
    "knn = KNeighborsClassifier(n_neighbors=6)"
   ]
  },
  {
   "cell_type": "code",
   "execution_count": null,
   "metadata": {
    "colab": {
     "base_uri": "https://localhost:8080/"
    },
    "collapsed": false,
    "id": "-ik4MJNQH9Oi",
    "outputId": "981fad37-b86a-4bb4-d93e-b27e8542abe8"
   },
   "outputs": [
    {
     "name": "stdout",
     "output_type": "stream",
     "text": [
      "Accuracy of logistic regression classifier on testing set is: 0.80\n",
      "The AUROC value for testing set is: 0.68\n"
     ]
    }
   ],
   "source": [
    "# Logistic Regression\n",
    "logit.fit(os_data_X, os_data_y)\n",
    "y_pred_logit = logit.predict(X_test)\n",
    "print(\"Accuracy of logistic regression classifier on testing set is: {:.2f}\".format(logit.score(X_test, y_test)))\n",
    "print(\"The AUROC value for testing set is: {:.2f}\".format(roc_auc_score(y_test, y_pred_logit)))"
   ]
  },
  {
   "cell_type": "code",
   "execution_count": null,
   "metadata": {
    "colab": {
     "base_uri": "https://localhost:8080/"
    },
    "collapsed": false,
    "id": "3YnbKRMOqXS6",
    "outputId": "56c73641-4d20-4c2b-a37f-b34209d68024"
   },
   "outputs": [
    {
     "name": "stdout",
     "output_type": "stream",
     "text": [
      "              precision    recall  f1-score   support\n",
      "\n",
      "           0       0.93      0.83      0.88     11969\n",
      "           1       0.29      0.52      0.38      1595\n",
      "\n",
      "    accuracy                           0.80     13564\n",
      "   macro avg       0.61      0.68      0.63     13564\n",
      "weighted avg       0.85      0.80      0.82     13564\n",
      "\n"
     ]
    }
   ],
   "source": [
    "print(classification_report(y_test,y_pred_logit))"
   ]
  },
  {
   "cell_type": "code",
   "execution_count": null,
   "metadata": {
    "colab": {
     "base_uri": "https://localhost:8080/"
    },
    "collapsed": false,
    "id": "1XVN8-YDK7k6",
    "outputId": "cea5deea-235f-4086-f5c9-6800fd485d59"
   },
   "outputs": [
    {
     "name": "stdout",
     "output_type": "stream",
     "text": [
      "Accuracy of Decision Tree Classifier on testing set is: 0.78\n",
      "The AUROC value for testing set is: 0.58\n"
     ]
    }
   ],
   "source": [
    "# Decision Trees\n",
    "tree.fit(os_data_X, os_data_y)\n",
    "y_pred_tree = tree.predict(X_test)\n",
    "print(\"Accuracy of Decision Tree Classifier on testing set is: {:.2f}\".format(tree.score(X_test, y_test)))\n",
    "print(\"The AUROC value for testing set is: {:.2f}\".format(roc_auc_score(y_test, y_pred_tree)))"
   ]
  },
  {
   "cell_type": "code",
   "execution_count": null,
   "metadata": {
    "colab": {
     "base_uri": "https://localhost:8080/"
    },
    "collapsed": false,
    "id": "LcbcG4kmLuN_",
    "outputId": "d3b94fd1-448e-45c6-cfc2-7f00c138dc88"
   },
   "outputs": [
    {
     "name": "stdout",
     "output_type": "stream",
     "text": [
      "Accuracy of Decision Tree Classifier on testing set is: 0.82\n",
      "The AUROC value for testing set is: 0.65\n"
     ]
    }
   ],
   "source": [
    "# Naive Bayes\n",
    "nbs.fit(os_data_X, os_data_y)\n",
    "y_pred_nbs = nbs.predict(X_test)\n",
    "print(\"Accuracy of Decision Tree Classifier on testing set is: {:.2f}\".format(nbs.score(X_test, y_test)))\n",
    "print(\"The AUROC value for testing set is: {:.2f}\".format(roc_auc_score(y_test, y_pred_nbs)))"
   ]
  },
  {
   "cell_type": "code",
   "execution_count": null,
   "metadata": {
    "colab": {
     "base_uri": "https://localhost:8080/"
    },
    "collapsed": false,
    "id": "AcOL3neyLugc",
    "outputId": "d5810801-6736-4c71-b452-354393211719"
   },
   "outputs": [
    {
     "name": "stdout",
     "output_type": "stream",
     "text": [
      "Accuracy of Decision Tree Classifier on testing set is: 0.76\n",
      "The AUROC value for testing set is: 0.64\n"
     ]
    }
   ],
   "source": [
    "# KNN \n",
    "knn.fit(os_data_X, os_data_y)\n",
    "y_pred_knn = knn.predict(X_test)\n",
    "print(\"Accuracy of Decision Tree Classifier on testing set is: {:.2f}\".format(knn.score(X_test, y_test)))\n",
    "print(\"The AUROC value for testing set is: {:.2f}\".format(roc_auc_score(y_test, y_pred_knn)))"
   ]
  },
  {
   "cell_type": "code",
   "execution_count": null,
   "metadata": {
    "colab": {
     "base_uri": "https://localhost:8080/"
    },
    "collapsed": false,
    "id": "UCTKrw4ULuvG",
    "outputId": "8692b280-2bff-4162-d89a-5e54907dfd95"
   },
   "outputs": [
    {
     "name": "stdout",
     "output_type": "stream",
     "text": [
      "Accuracy of Decision Tree Classifier on testing set is: 0.84\n",
      "The AUROC value for testing set is: 0.64\n"
     ]
    }
   ],
   "source": [
    "# Random Forest\n",
    "rfc.fit(os_data_X, os_data_y)\n",
    "y_pred_rfc = rfc.predict(X_test)\n",
    "print(\"Accuracy of Decision Tree Classifier on testing set is: {:.2f}\".format(rfc.score(X_test, y_test)))\n",
    "print(\"The AUROC value for testing set is: {:.2f}\".format(roc_auc_score(y_test, y_pred_rfc)))"
   ]
  },
  {
   "cell_type": "code",
   "execution_count": null,
   "metadata": {
    "colab": {
     "base_uri": "https://localhost:8080/"
    },
    "collapsed": false,
    "id": "mu_NevIFNMKP",
    "outputId": "a6b05fa2-65ee-4216-87af-b5985f13332c"
   },
   "outputs": [
    {
     "name": "stdout",
     "output_type": "stream",
     "text": [
      "[[10782  1187]\n",
      " [  995   600]]\n",
      "              precision    recall  f1-score   support\n",
      "\n",
      "           0       0.92      0.90      0.91     11969\n",
      "           1       0.34      0.38      0.35      1595\n",
      "\n",
      "    accuracy                           0.84     13564\n",
      "   macro avg       0.63      0.64      0.63     13564\n",
      "weighted avg       0.85      0.84      0.84     13564\n",
      "\n"
     ]
    }
   ],
   "source": [
    "print(confusion_matrix(y_test,y_pred_rfc))\n",
    "print(classification_report(y_test,y_pred_rfc))"
   ]
  },
  {
   "cell_type": "markdown",
   "metadata": {
    "id": "zRP5j8RSL8hZ"
   },
   "source": [
    "## Hyperparameter tuning and cross-validation"
   ]
  },
  {
   "cell_type": "code",
   "execution_count": null,
   "metadata": {
    "collapsed": true,
    "id": "zsnelyGrW9A-"
   },
   "outputs": [],
   "source": [
    "from sklearn.model_selection import RandomizedSearchCV\n",
    "from scipy.stats import randint as sp_randint"
   ]
  },
  {
   "cell_type": "code",
   "execution_count": null,
   "metadata": {
    "colab": {
     "base_uri": "https://localhost:8080/"
    },
    "collapsed": false,
    "id": "YKgMaXsWLu-M",
    "outputId": "06c3880b-b48b-45cc-adc8-bf2605b39135"
   },
   "outputs": [
    {
     "data": {
      "text/plain": [
       "RandomizedSearchCV(cv=3, estimator=RandomForestClassifier(random_state=0),\n",
       "                   n_jobs=-1,\n",
       "                   param_distributions={'criterion': ['gini', 'entropy'],\n",
       "                                        'max_depth': <scipy.stats._distn_infrastructure.rv_frozen object at 0x7f1fbded6fd0>,\n",
       "                                        'max_features': <scipy.stats._distn_infrastructure.rv_frozen object at 0x7f1fbdecf610>,\n",
       "                                        'min_samples_leaf': <scipy.stats._distn_infrastructure.rv_frozen object at 0x7f1fbdef9910>,\n",
       "                                        'min_samples_split': <scipy.stats._distn_infrastructure.rv_frozen object at 0x7f1fbded6e50>,\n",
       "                                        'n_estimators': <scipy.stats._distn_infrastructure.rv_frozen object at 0x7f1fbded6a90>},\n",
       "                   random_state=0, scoring='roc_auc')"
      ]
     },
     "execution_count": 37,
     "metadata": {},
     "output_type": "execute_result"
    }
   ],
   "source": [
    "# Hyperparameter Tuning of Random Forest\n",
    "\n",
    "rfc_tunned=RandomForestClassifier(n_estimators=100,random_state=0)\n",
    "params={'n_estimators':sp_randint(1,1200),\n",
    "        'max_features':sp_randint(1,18),\n",
    "        'max_depth': sp_randint(1,60),\n",
    "        'min_samples_split':sp_randint(2,40),\n",
    "        'min_samples_leaf':sp_randint(2,20),\n",
    "        'criterion':['gini','entropy']}\n",
    "\n",
    "search_rfc=RandomizedSearchCV(rfc_tunned,params,cv=3,scoring='roc_auc',n_jobs=-1,random_state=0)\n",
    "\n",
    "search_rfc.fit(os_data_X, os_data_y)"
   ]
  },
  {
   "cell_type": "code",
   "execution_count": null,
   "metadata": {
    "colab": {
     "base_uri": "https://localhost:8080/"
    },
    "collapsed": false,
    "id": "QueCLIYgLvWu",
    "outputId": "b5f7271a-6f95-4703-e1d9-34b032f93b84"
   },
   "outputs": [
    {
     "data": {
      "text/plain": [
       "{'criterion': 'entropy',\n",
       " 'max_depth': 33,\n",
       " 'max_features': 11,\n",
       " 'min_samples_leaf': 5,\n",
       " 'min_samples_split': 13,\n",
       " 'n_estimators': 883}"
      ]
     },
     "execution_count": 38,
     "metadata": {},
     "output_type": "execute_result"
    }
   ],
   "source": [
    "search_rfc.best_params_"
   ]
  },
  {
   "cell_type": "code",
   "execution_count": 20,
   "metadata": {
    "collapsed": true,
    "id": "VOBXQvpGe6rD"
   },
   "outputs": [],
   "source": [
    "# Record the output so we don't have to run randomized search everytime \n",
    "best_params = {'criterion': 'entropy',\n",
    " 'max_depth': 33,\n",
    " 'max_features': 11,\n",
    " 'min_samples_leaf': 5,\n",
    " 'min_samples_split': 13,\n",
    " 'n_estimators': 883}"
   ]
  },
  {
   "cell_type": "code",
   "execution_count": 21,
   "metadata": {
    "colab": {
     "base_uri": "https://localhost:8080/"
    },
    "collapsed": false,
    "id": "2Jky9NtvR7Pm",
    "outputId": "411759da-60cd-4827-831c-7eec4cfc9b8f"
   },
   "outputs": [
    {
     "name": "stdout",
     "output_type": "stream",
     "text": [
      "Accuracy of Decision Tree Classifier on testing set is: 0.87\n",
      "The AUROC value for testing set is: 0.68\n"
     ]
    }
   ],
   "source": [
    "# Using tuned parameters, check how the performance improved\n",
    "rfc_tuned=RandomForestClassifier(**best_params,random_state=0)\n",
    "rfc_tuned.fit(os_data_X, os_data_y)\n",
    "y_pred_rfc_tuned = rfc_tuned.predict(X_test)\n",
    "print(\"Accuracy of Decision Tree Classifier on testing set is: {:.2f}\".format(rfc_tuned.score(X_test, y_test)))\n",
    "print(\"The AUROC value for testing set is: {:.2f}\".format(roc_auc_score(y_test, y_pred_rfc_tuned)))"
   ]
  },
  {
   "cell_type": "code",
   "execution_count": null,
   "metadata": {
    "colab": {
     "base_uri": "https://localhost:8080/"
    },
    "collapsed": false,
    "id": "d30nIQ9mSfNO",
    "outputId": "c6f64c6e-8ae7-4a8e-f9c0-54a4e9c96e96"
   },
   "outputs": [
    {
     "name": "stdout",
     "output_type": "stream",
     "text": [
      "[[10942  1027]\n",
      " [  940   655]]\n",
      "              precision    recall  f1-score   support\n",
      "\n",
      "           0       0.92      0.91      0.92     11969\n",
      "           1       0.39      0.41      0.40      1595\n",
      "\n",
      "    accuracy                           0.85     13564\n",
      "   macro avg       0.66      0.66      0.66     13564\n",
      "weighted avg       0.86      0.85      0.86     13564\n",
      "\n"
     ]
    }
   ],
   "source": [
    "print(confusion_matrix(y_test,y_pred_rfc_tuned))\n",
    "print(classification_report(y_test,y_pred_rfc_tuned))"
   ]
  },
  {
   "cell_type": "code",
   "execution_count": null,
   "metadata": {
    "colab": {
     "base_uri": "https://localhost:8080/"
    },
    "collapsed": false,
    "id": "7rxifRxPSkPa",
    "outputId": "4abdca28-23c6-4608-dec4-3b9a678d2e91"
   },
   "outputs": [
    {
     "data": {
      "text/plain": [
       "RandomizedSearchCV(cv=3, estimator=KNeighborsClassifier(), n_jobs=-1,\n",
       "                   param_distributions={'n_neighbors': <scipy.stats._distn_infrastructure.rv_frozen object at 0x7f9864545190>,\n",
       "                                        'p': <scipy.stats._distn_infrastructure.rv_frozen object at 0x7f9864545690>},\n",
       "                   random_state=0, scoring='roc_auc')"
      ]
     },
     "execution_count": 21,
     "metadata": {},
     "output_type": "execute_result"
    }
   ],
   "source": [
    "knn_tunned = KNeighborsClassifier()\n",
    "\n",
    "params={'n_neighbors':sp_randint(1,20),'p':sp_randint(1,3)}\n",
    "\n",
    "search_knn = RandomizedSearchCV(knn_tunned,params,cv=3,scoring='roc_auc',n_jobs=-1,random_state=0)\n",
    "search_knn.fit(os_data_X, os_data_y)"
   ]
  },
  {
   "cell_type": "code",
   "execution_count": null,
   "metadata": {
    "colab": {
     "base_uri": "https://localhost:8080/"
    },
    "collapsed": false,
    "id": "Ow85IabDS9j2",
    "outputId": "fe05b53d-9c8d-45e1-e8ba-ed58309887cb"
   },
   "outputs": [
    {
     "data": {
      "text/plain": [
       "{'n_neighbors': 2, 'p': 1}"
      ]
     },
     "execution_count": 22,
     "metadata": {},
     "output_type": "execute_result"
    }
   ],
   "source": [
    "search_knn.best_params_"
   ]
  },
  {
   "cell_type": "code",
   "execution_count": 22,
   "metadata": {
    "collapsed": true,
    "id": "t2WvGVuAfMwT"
   },
   "outputs": [],
   "source": [
    "knn_params = {'n_neighbors': 2, 'p': 1}"
   ]
  },
  {
   "cell_type": "code",
   "execution_count": 23,
   "metadata": {
    "collapsed": true,
    "id": "9h1Ws6O8c_to"
   },
   "outputs": [],
   "source": [
    "knn_tuned = KNeighborsClassifier(**knn_params)"
   ]
  },
  {
   "cell_type": "code",
   "execution_count": 24,
   "metadata": {
    "colab": {
     "base_uri": "https://localhost:8080/"
    },
    "collapsed": false,
    "id": "Sb74TBJgdJ3L",
    "outputId": "02715310-40a2-4722-c13e-6b4c3dce644d"
   },
   "outputs": [
    {
     "name": "stdout",
     "output_type": "stream",
     "text": [
      "Accuracy of KNN Classifier on testing set is: 0.83\n",
      "The AUROC value for testing set is: 0.60\n"
     ]
    }
   ],
   "source": [
    "knn_tuned.fit(os_data_X, os_data_y)\n",
    "y_pred_knn_tuned = knn_tuned.predict(X_test)\n",
    "print(\"Accuracy of KNN Classifier on testing set is: {:.2f}\".format(knn_tuned.score(X_test, y_test)))\n",
    "print(\"The AUROC value for testing set is: {:.2f}\".format(roc_auc_score(y_test, y_pred_knn_tuned)))"
   ]
  },
  {
   "cell_type": "markdown",
   "metadata": {
    "id": "OwggTopqMCxN"
   },
   "source": [
    "# Performance Evaluation"
   ]
  },
  {
   "cell_type": "markdown",
   "metadata": {
    "id": "CoDdY5ZnTWkz"
   },
   "source": [
    "Using 10-fold cross-validation on training data and to compare the performances of each model, using mutiple performance metrics and check for the best one. "
   ]
  },
  {
   "cell_type": "code",
   "execution_count": 26,
   "metadata": {
    "collapsed": true,
    "id": "7NY8MfpBMCKD"
   },
   "outputs": [],
   "source": [
    "# For creating a stacked model performance evaluation chart\n",
    "models=[]\n",
    "models.append(('Logistic',logit))\n",
    "models.append(('Decision Tree',tree))\n",
    "models.append(('Naive Bayes',nbs))\n",
    "models.append(('Random Forest',rfc))\n",
    "models.append(('Random Forest Tuned',rfc_tuned))\n",
    "models.append(('KNN',knn))\n",
    "models.append(('KNN Tuned',knn_tuned))"
   ]
  },
  {
   "cell_type": "code",
   "execution_count": 40,
   "metadata": {
    "colab": {
     "base_uri": "https://localhost:8080/",
     "height": 268
    },
    "collapsed": false,
    "id": "lH6aDxWSez20",
    "outputId": "3f211f5c-ee27-4967-f595-a6d37227481b"
   },
   "outputs": [
    {
     "data": {
      "text/html": [
       "<div>\n",
       "<style scoped>\n",
       "    .dataframe tbody tr th:only-of-type {\n",
       "        vertical-align: middle;\n",
       "    }\n",
       "\n",
       "    .dataframe tbody tr th {\n",
       "        vertical-align: top;\n",
       "    }\n",
       "\n",
       "    .dataframe thead th {\n",
       "        text-align: right;\n",
       "    }\n",
       "</style>\n",
       "<table border=\"1\" class=\"dataframe\">\n",
       "  <thead>\n",
       "    <tr style=\"text-align: right;\">\n",
       "      <th></th>\n",
       "      <th>Model</th>\n",
       "      <th>Accuracy Score</th>\n",
       "      <th>ROC-AUC Score</th>\n",
       "      <th>F1 Score</th>\n",
       "      <th>Precision Score</th>\n",
       "      <th>Recall Score</th>\n",
       "    </tr>\n",
       "  </thead>\n",
       "  <tbody>\n",
       "    <tr>\n",
       "      <th>0</th>\n",
       "      <td>Logistic</td>\n",
       "      <td>0.764069</td>\n",
       "      <td>0.837079</td>\n",
       "      <td>0.745288</td>\n",
       "      <td>0.809751</td>\n",
       "      <td>0.690391</td>\n",
       "    </tr>\n",
       "    <tr>\n",
       "      <th>1</th>\n",
       "      <td>Decision Tree</td>\n",
       "      <td>0.878111</td>\n",
       "      <td>0.878111</td>\n",
       "      <td>0.879113</td>\n",
       "      <td>0.871859</td>\n",
       "      <td>0.886525</td>\n",
       "    </tr>\n",
       "    <tr>\n",
       "      <th>2</th>\n",
       "      <td>Naive Bayes</td>\n",
       "      <td>0.669509</td>\n",
       "      <td>0.716423</td>\n",
       "      <td>0.636723</td>\n",
       "      <td>0.706702</td>\n",
       "      <td>0.579386</td>\n",
       "    </tr>\n",
       "    <tr>\n",
       "      <th>3</th>\n",
       "      <td>Random Forest</td>\n",
       "      <td>0.933964</td>\n",
       "      <td>0.982395</td>\n",
       "      <td>0.933905</td>\n",
       "      <td>0.934452</td>\n",
       "      <td>0.933385</td>\n",
       "    </tr>\n",
       "    <tr>\n",
       "      <th>4</th>\n",
       "      <td>Random Forest Tuned</td>\n",
       "      <td>0.905238</td>\n",
       "      <td>0.968197</td>\n",
       "      <td>0.902998</td>\n",
       "      <td>0.924717</td>\n",
       "      <td>0.882307</td>\n",
       "    </tr>\n",
       "    <tr>\n",
       "      <th>5</th>\n",
       "      <td>KNN</td>\n",
       "      <td>0.851994</td>\n",
       "      <td>0.924070</td>\n",
       "      <td>0.855837</td>\n",
       "      <td>0.834054</td>\n",
       "      <td>0.878855</td>\n",
       "    </tr>\n",
       "    <tr>\n",
       "      <th>6</th>\n",
       "      <td>KNN Tuned</td>\n",
       "      <td>0.902959</td>\n",
       "      <td>0.934029</td>\n",
       "      <td>0.901785</td>\n",
       "      <td>0.912715</td>\n",
       "      <td>0.891152</td>\n",
       "    </tr>\n",
       "  </tbody>\n",
       "</table>\n",
       "</div>"
      ],
      "text/plain": [
       "                 Model  Accuracy Score  ...  Precision Score  Recall Score\n",
       "0             Logistic        0.764069  ...         0.809751      0.690391\n",
       "1        Decision Tree        0.878111  ...         0.871859      0.886525\n",
       "2          Naive Bayes        0.669509  ...         0.706702      0.579386\n",
       "3        Random Forest        0.933964  ...         0.934452      0.933385\n",
       "4  Random Forest Tuned        0.905238  ...         0.924717      0.882307\n",
       "5                  KNN        0.851994  ...         0.834054      0.878855\n",
       "6            KNN Tuned        0.902959  ...         0.912715      0.891152\n",
       "\n",
       "[7 rows x 6 columns]"
      ]
     },
     "execution_count": 40,
     "metadata": {},
     "output_type": "execute_result"
    }
   ],
   "source": [
    "accuracy=[]\n",
    "auroc=[]\n",
    "f1_score=[]\n",
    "precision=[]\n",
    "recall=[]\n",
    "names=[]\n",
    "\n",
    "for name, model in models:\n",
    "    kfold = KFold(shuffle=True,n_splits=10,random_state=0)\n",
    "    \n",
    "    #acc = cross_val_score(model,X,y,cv=kfold,scoring='accuracy')\n",
    "    acc = cross_val_score(model,os_data_X,os_data_y,cv=kfold,scoring='accuracy')\n",
    "    accuracy.append(np.mean(acc))\n",
    "\n",
    "    # roc_val = cross_val_score(model,X,y, cv=kfold, scoring='roc_auc')\n",
    "    roc_val = cross_val_score(model,os_data_X, os_data_y, cv=kfold, scoring='roc_auc')\n",
    "    auroc.append(np.mean(roc_val))\n",
    "    \n",
    "    # f1=cross_val_score(model,X,y,cv=kfold,scoring='f1_weighted')\n",
    "    f1=cross_val_score(model,os_data_X,os_data_y,cv=kfold,scoring='f1')\n",
    "    f1_score.append(np.mean(f1))\n",
    "    \n",
    "    # prec = cross_val_score(model,X,y,cv=kfold,scoring='precision_weighted')\n",
    "    prec = cross_val_score(model,os_data_X,os_data_y,cv=kfold,scoring='precision')\n",
    "    precision.append(np.mean(prec))\n",
    "    \n",
    "    # rec = cross_val_score(model,X,y,cv=kfold,scoring='recall_weighted')\n",
    "    rec = cross_val_score(model,os_data_X,os_data_y,cv=kfold,scoring='recall')\n",
    "    recall.append(np.mean(rec))\n",
    "    \n",
    "    names.append(name)\n",
    "    \n",
    "result_df=pd.DataFrame({'Model':names,\n",
    "                        'Accuracy Score':accuracy,\n",
    "                        'ROC-AUC Score':auroc,\n",
    "                        'F1 Score':f1_score,\n",
    "                        'Precision Score':precision,\n",
    "                        'Recall Score':recall})\n",
    "result_df"
   ]
  },
  {
   "cell_type": "code",
   "execution_count": 41,
   "metadata": {
    "colab": {
     "base_uri": "https://localhost:8080/",
     "height": 268
    },
    "collapsed": false,
    "id": "dVcXwcg8igjk",
    "outputId": "f5ba79ee-918f-479c-ee24-86f84de3897e"
   },
   "outputs": [
    {
     "data": {
      "text/html": [
       "<div>\n",
       "<style scoped>\n",
       "    .dataframe tbody tr th:only-of-type {\n",
       "        vertical-align: middle;\n",
       "    }\n",
       "\n",
       "    .dataframe tbody tr th {\n",
       "        vertical-align: top;\n",
       "    }\n",
       "\n",
       "    .dataframe thead th {\n",
       "        text-align: right;\n",
       "    }\n",
       "</style>\n",
       "<table border=\"1\" class=\"dataframe\">\n",
       "  <thead>\n",
       "    <tr style=\"text-align: right;\">\n",
       "      <th></th>\n",
       "      <th>Model</th>\n",
       "      <th>Accuracy Score</th>\n",
       "      <th>ROC-AUC Score</th>\n",
       "      <th>F1 Score</th>\n",
       "      <th>Precision Score</th>\n",
       "      <th>Recall Score</th>\n",
       "    </tr>\n",
       "  </thead>\n",
       "  <tbody>\n",
       "    <tr>\n",
       "      <th>0</th>\n",
       "      <td>Logistic</td>\n",
       "      <td>0.764069</td>\n",
       "      <td>0.837079</td>\n",
       "      <td>0.745288</td>\n",
       "      <td>0.809751</td>\n",
       "      <td>0.690391</td>\n",
       "    </tr>\n",
       "    <tr>\n",
       "      <th>1</th>\n",
       "      <td>Decision Tree</td>\n",
       "      <td>0.878111</td>\n",
       "      <td>0.878111</td>\n",
       "      <td>0.879113</td>\n",
       "      <td>0.871859</td>\n",
       "      <td>0.886525</td>\n",
       "    </tr>\n",
       "    <tr>\n",
       "      <th>2</th>\n",
       "      <td>Naive Bayes</td>\n",
       "      <td>0.669509</td>\n",
       "      <td>0.716423</td>\n",
       "      <td>0.636723</td>\n",
       "      <td>0.706702</td>\n",
       "      <td>0.579386</td>\n",
       "    </tr>\n",
       "    <tr>\n",
       "      <th>3</th>\n",
       "      <td>Random Forest</td>\n",
       "      <td>0.933964</td>\n",
       "      <td>0.982395</td>\n",
       "      <td>0.933905</td>\n",
       "      <td>0.934452</td>\n",
       "      <td>0.933385</td>\n",
       "    </tr>\n",
       "    <tr>\n",
       "      <th>4</th>\n",
       "      <td>Random Forest Tuned</td>\n",
       "      <td>0.905238</td>\n",
       "      <td>0.968197</td>\n",
       "      <td>0.902998</td>\n",
       "      <td>0.924717</td>\n",
       "      <td>0.882307</td>\n",
       "    </tr>\n",
       "    <tr>\n",
       "      <th>5</th>\n",
       "      <td>KNN</td>\n",
       "      <td>0.851994</td>\n",
       "      <td>0.924070</td>\n",
       "      <td>0.855837</td>\n",
       "      <td>0.834054</td>\n",
       "      <td>0.878855</td>\n",
       "    </tr>\n",
       "    <tr>\n",
       "      <th>6</th>\n",
       "      <td>KNN Tuned</td>\n",
       "      <td>0.902959</td>\n",
       "      <td>0.934029</td>\n",
       "      <td>0.901785</td>\n",
       "      <td>0.912715</td>\n",
       "      <td>0.891152</td>\n",
       "    </tr>\n",
       "  </tbody>\n",
       "</table>\n",
       "</div>"
      ],
      "text/plain": [
       "                 Model  Accuracy Score  ...  Precision Score  Recall Score\n",
       "0             Logistic        0.764069  ...         0.809751      0.690391\n",
       "1        Decision Tree        0.878111  ...         0.871859      0.886525\n",
       "2          Naive Bayes        0.669509  ...         0.706702      0.579386\n",
       "3        Random Forest        0.933964  ...         0.934452      0.933385\n",
       "4  Random Forest Tuned        0.905238  ...         0.924717      0.882307\n",
       "5                  KNN        0.851994  ...         0.834054      0.878855\n",
       "6            KNN Tuned        0.902959  ...         0.912715      0.891152\n",
       "\n",
       "[7 rows x 6 columns]"
      ]
     },
     "execution_count": 41,
     "metadata": {},
     "output_type": "execute_result"
    }
   ],
   "source": [
    "result_df"
   ]
  },
  {
   "cell_type": "markdown",
   "metadata": {
    "id": "Ymt9L0zkGmBS"
   },
   "source": [
    "The dataframe above represents the results of cross-validation for all the 5 models (along with tuned RF and KNN). We could observe that tree models seem to suit our oversampled training data more - all the performance metrics seem better compared to other models. Random Forest Classifier performs the best here, and it also performs the best on our test set, both before and after tuning. Here interestingly, the tuned RF performs worse in cross-validation. This might be that these tuned parameters have a higher risk of overfitting our training data. However, since it still performs better than un-tuned version on un-seen test data as shown in the previously section, we will stick to this model and further explore its performance."
   ]
  },
  {
   "cell_type": "code",
   "execution_count": 54,
   "metadata": {
    "colab": {
     "base_uri": "https://localhost:8080/"
    },
    "collapsed": false,
    "id": "x304Y3YDJ0RA",
    "outputId": "114a65c1-0eb2-49e9-92d5-69afa8729eb0"
   },
   "outputs": [
    {
     "name": "stdout",
     "output_type": "stream",
     "text": [
      "              precision    recall  f1-score   support\n",
      "\n",
      "           0       0.92      0.93      0.92     11969\n",
      "           1       0.43      0.43      0.43      1595\n",
      "\n",
      "    accuracy                           0.87     13564\n",
      "   macro avg       0.68      0.68      0.68     13564\n",
      "weighted avg       0.87      0.87      0.87     13564\n",
      "\n"
     ]
    }
   ],
   "source": [
    "print(classification_report(y_test,y_pred_rfc_tuned))"
   ]
  },
  {
   "cell_type": "markdown",
   "metadata": {
    "id": "KmHJYXOOKM1U"
   },
   "source": [
    "Again, above is the classification report on testing set for Random Forest tuned. Here we noticed that the two classes are highly imbalanced. Since we don't want to use synthetic points in testing data and we'd like to prevent information leak from testing data (hence why we didn't do oversampling and cross-validation on testing set) We will consider using the weighted F-1, precision and recall as metrics."
   ]
  },
  {
   "cell_type": "code",
   "execution_count": 58,
   "metadata": {
    "colab": {
     "base_uri": "https://localhost:8080/",
     "height": 283
    },
    "collapsed": false,
    "id": "CZJXdlSOI9ax",
    "outputId": "9895e2d5-7d4e-4b87-bec1-07942f84b599"
   },
   "outputs": [
    {
     "data": {
      "text/plain": [
       "<matplotlib.axes._subplots.AxesSubplot at 0x7f2b453696d0>"
      ]
     },
     "execution_count": 58,
     "metadata": {},
     "output_type": "execute_result"
    },
    {
     "data": {
      "image/png": "[encoded data removed]",
      "text/plain": [
       "<Figure size 432x288 with 2 Axes>"
      ]
     },
     "metadata": {
      "needs_background": "light"
     },
     "output_type": "display_data"
    }
   ],
   "source": [
    "# Visualize the performance of RF-tuned \n",
    "# Plot confusion matrix\n",
    "cf_matrix = confusion_matrix(y_test,y_pred_rfc_tuned)\n",
    "sns.heatmap(cf_matrix, annot=True, cmap='Blues',fmt='g')"
   ]
  },
  {
   "cell_type": "code",
   "execution_count": 73,
   "metadata": {
    "colab": {
     "base_uri": "https://localhost:8080/",
     "height": 605
    },
    "collapsed": false,
    "id": "-44JR849St-J",
    "outputId": "4160b002-d576-4c9c-aa09-43309cd035d8"
   },
   "outputs": [
    {
     "data": {
      "image/png": "[encoded data removed]",
      "text/plain": [
       "<Figure size 720x720 with 1 Axes>"
      ]
     },
     "metadata": {
      "needs_background": "light"
     },
     "output_type": "display_data"
    }
   ],
   "source": [
    "from sklearn.metrics import roc_curve\n",
    "base_probs = [0 for _ in range(len(y_test))]\n",
    "rfc_probs = rfc_tuned.predict_proba(X_test)[:,1]\n",
    "\n",
    "# calculate roc curves\n",
    "base_fpr, base_tpr, _ = roc_curve(y_test, base_probs)\n",
    "model_fpr, model_tpr, _ = roc_curve(y_test, rfc_probs)\n",
    "# plot the roc curve for the model\n",
    "plt.figure(figsize=(10,10))\n",
    "plt.plot(base_fpr, base_tpr, linestyle='--', label='Baseline')\n",
    "plt.plot(model_fpr, model_tpr, marker='.', label='Random Forest Tuned')\n",
    "# axis labels\n",
    "plt.xlabel('False Positive Rate')\n",
    "plt.ylabel('True Positive Rate')\n",
    "# show the legend\n",
    "plt.legend()\n",
    "# show the plot\n",
    "plt.show()"
   ]
  },
  {
   "cell_type": "code",
   "execution_count": 67,
   "metadata": {
    "colab": {
     "base_uri": "https://localhost:8080/"
    },
    "collapsed": false,
    "id": "qiFVXhsBJHvG",
    "outputId": "7f5fc0ec-3330-487f-f7a7-590c592462ef"
   },
   "outputs": [
    {
     "name": "stdout",
     "output_type": "stream",
     "text": [
      "                feature  importance       std\n",
      "31            month_dec    0.000313  0.000293\n",
      "24          default_yes    0.000672  0.000620\n",
      "23           default_no    0.001083  0.000801\n",
      "14          job_student    0.001536  0.000715\n",
      "16       job_unemployed    0.001567  0.000638\n",
      "40            month_sep    0.001630  0.001516\n",
      "8      job_entrepreneur    0.002344  0.000932\n",
      "12    job_self-employed    0.002377  0.000832\n",
      "11          job_retired    0.002530  0.000996\n",
      "9         job_housemaid    0.002679  0.001147\n",
      "39            month_oct    0.003717  0.002184\n",
      "36            month_mar    0.004895  0.001967\n",
      "17     marital_divorced    0.005613  0.001396\n",
      "13         job_services    0.005849  0.001179\n",
      "32            month_feb    0.006399  0.001901\n",
      "6            job_admin.    0.006633  0.001175\n",
      "33            month_jan    0.006857  0.002053\n",
      "27              loan_no    0.007613  0.002689\n",
      "20    education_primary    0.008241  0.001728\n",
      "19       marital_single    0.008599  0.002190\n",
      "10       job_management    0.009103  0.001392\n",
      "35            month_jun    0.009289  0.001787\n",
      "7       job_blue-collar    0.009830  0.001903\n",
      "15       job_technician    0.009986  0.001590\n",
      "34            month_jul    0.010110  0.001842\n",
      "22   education_tertiary    0.010236  0.001668\n",
      "30            month_aug    0.010650  0.002159\n",
      "21  education_secondary    0.010819  0.001578\n",
      "38            month_nov    0.012403  0.002741\n",
      "28             loan_yes    0.014287  0.003913\n",
      "18      marital_married    0.014541  0.002315\n",
      "37            month_may    0.017040  0.005869\n",
      "29            month_apr    0.017339  0.004194\n",
      "25           housing_no    0.021818  0.017569\n",
      "26          housing_yes    0.032522  0.018546\n",
      "4                 pdays    0.068601  0.038201\n",
      "0                   age    0.100527  0.012985\n",
      "5              previous    0.116647  0.042455\n",
      "1               balance    0.120728  0.014143\n",
      "2                   day    0.127127  0.014273\n",
      "3              campaign    0.175249  0.036268\n"
     ]
    }
   ],
   "source": [
    "# Plot feature importance\n",
    "importances = rfc_tuned.feature_importances_\n",
    "imp_std = np.std([tree.feature_importances_ for tree in rfc_tuned.estimators_], axis=0)\n",
    "df_imp = pd.DataFrame({'feature': os_data_X.columns, 'importance': importances, 'std': imp_std})\n",
    "df_imp = df_imp.sort_values('importance')\n",
    "print(df_imp)"
   ]
  },
  {
   "cell_type": "markdown",
   "metadata": {
    "id": "wRujMVY-S9xF"
   },
   "source": [
    "The five most important features are: campaign(how many times the client was contacted during this campaign), day(when the client was contacted), balance, previous(previous contacts), and age."
   ]
  },
  {
   "cell_type": "code",
   "execution_count": 70,
   "metadata": {
    "colab": {
     "base_uri": "https://localhost:8080/",
     "height": 592
    },
    "collapsed": false,
    "id": "-m3omDiBSBrw",
    "outputId": "db8e4a81-b61a-4270-a355-b4a45f9b6f0e"
   },
   "outputs": [
    {
     "data": {
      "image/png": "[encoded data removed]",
      "text/plain": [
       "<Figure size 1080x720 with 1 Axes>"
      ]
     },
     "metadata": {
      "needs_background": "light"
     },
     "output_type": "display_data"
    }
   ],
   "source": [
    "ax = df_imp.plot(kind='barh', xerr='std', x='feature', legend=False, figsize=(15,10))\n",
    "ax.set_ylabel('')\n",
    "plt.show()"
   ]
  },
  {
   "cell_type": "markdown",
   "metadata": {
    "id": "11X95Y3sS3Ky"
   },
   "source": [
    "All in all, we are choosing Random Forest (tuned) classifier as our final model."
   ]
  },
  {
   "cell_type": "markdown",
   "metadata": {
    "id": "dMV97EjmMKAl"
   },
   "source": [
    "# Appendix: PCA "
   ]
  },
  {
   "cell_type": "markdown",
   "metadata": {
    "id": "D5a26UIzlPuD"
   },
   "source": [
    "Try PCA to reduce dimension. Although PCA is designed for continuous variables and may not work well on binary data (which a lot of the variables in our dataset are), we'll try it anyways."
   ]
  },
  {
   "cell_type": "code",
   "execution_count": 42,
   "metadata": {
    "collapsed": true,
    "id": "xifpsP8Rju-C"
   },
   "outputs": [],
   "source": [
    "from sklearn.decomposition import PCA\n",
    "pca = PCA()\n",
    "X_pca = pca.fit_transform(X)"
   ]
  },
  {
   "cell_type": "code",
   "execution_count": 43,
   "metadata": {
    "colab": {
     "base_uri": "https://localhost:8080/",
     "height": 226
    },
    "collapsed": false,
    "id": "MFSwSXt1kQZ1",
    "outputId": "b2510833-d87b-4a28-a1ea-c57aa8f839ec"
   },
   "outputs": [
    {
     "data": {
      "text/html": [
       "<div>\n",
       "<style scoped>\n",
       "    .dataframe tbody tr th:only-of-type {\n",
       "        vertical-align: middle;\n",
       "    }\n",
       "\n",
       "    .dataframe tbody tr th {\n",
       "        vertical-align: top;\n",
       "    }\n",
       "\n",
       "    .dataframe thead th {\n",
       "        text-align: right;\n",
       "    }\n",
       "</style>\n",
       "<table border=\"1\" class=\"dataframe\">\n",
       "  <thead>\n",
       "    <tr style=\"text-align: right;\">\n",
       "      <th></th>\n",
       "      <th>0</th>\n",
       "      <th>1</th>\n",
       "      <th>2</th>\n",
       "      <th>3</th>\n",
       "      <th>4</th>\n",
       "      <th>5</th>\n",
       "      <th>6</th>\n",
       "      <th>7</th>\n",
       "      <th>8</th>\n",
       "      <th>9</th>\n",
       "      <th>10</th>\n",
       "      <th>11</th>\n",
       "      <th>12</th>\n",
       "      <th>13</th>\n",
       "      <th>14</th>\n",
       "      <th>15</th>\n",
       "      <th>16</th>\n",
       "      <th>17</th>\n",
       "      <th>18</th>\n",
       "      <th>19</th>\n",
       "      <th>20</th>\n",
       "      <th>21</th>\n",
       "      <th>22</th>\n",
       "      <th>23</th>\n",
       "      <th>24</th>\n",
       "      <th>25</th>\n",
       "      <th>26</th>\n",
       "      <th>27</th>\n",
       "      <th>28</th>\n",
       "      <th>29</th>\n",
       "      <th>30</th>\n",
       "      <th>31</th>\n",
       "      <th>32</th>\n",
       "      <th>33</th>\n",
       "      <th>34</th>\n",
       "      <th>35</th>\n",
       "      <th>36</th>\n",
       "      <th>37</th>\n",
       "      <th>38</th>\n",
       "      <th>39</th>\n",
       "      <th>40</th>\n",
       "    </tr>\n",
       "  </thead>\n",
       "  <tbody>\n",
       "    <tr>\n",
       "      <th>0</th>\n",
       "      <td>0.025342</td>\n",
       "      <td>0.003625</td>\n",
       "      <td>0.010594</td>\n",
       "      <td>0.027324</td>\n",
       "      <td>-0.019901</td>\n",
       "      <td>-0.029692</td>\n",
       "      <td>-0.047572</td>\n",
       "      <td>-0.180803</td>\n",
       "      <td>0.002408</td>\n",
       "      <td>0.015890</td>\n",
       "      <td>0.194165</td>\n",
       "      <td>0.035295</td>\n",
       "      <td>0.013388</td>\n",
       "      <td>-0.053845</td>\n",
       "      <td>0.011465</td>\n",
       "      <td>0.001512</td>\n",
       "      <td>0.008097</td>\n",
       "      <td>0.002666</td>\n",
       "      <td>-0.049324</td>\n",
       "      <td>0.046657</td>\n",
       "      <td>-0.019837</td>\n",
       "      <td>-0.266593</td>\n",
       "      <td>0.286430</td>\n",
       "      <td>0.000411</td>\n",
       "      <td>-0.000411</td>\n",
       "      <td>0.549334</td>\n",
       "      <td>-0.549334</td>\n",
       "      <td>0.041668</td>\n",
       "      <td>-0.041668</td>\n",
       "      <td>-0.014452</td>\n",
       "      <td>0.174349</td>\n",
       "      <td>0.004089</td>\n",
       "      <td>0.024155</td>\n",
       "      <td>0.015692</td>\n",
       "      <td>0.040262</td>\n",
       "      <td>0.046444</td>\n",
       "      <td>0.009648</td>\n",
       "      <td>-0.344433</td>\n",
       "      <td>0.019086</td>\n",
       "      <td>0.013834</td>\n",
       "      <td>0.011326</td>\n",
       "    </tr>\n",
       "    <tr>\n",
       "      <th>1</th>\n",
       "      <td>-0.056587</td>\n",
       "      <td>0.001367</td>\n",
       "      <td>-0.002634</td>\n",
       "      <td>-0.020738</td>\n",
       "      <td>0.018082</td>\n",
       "      <td>0.058268</td>\n",
       "      <td>-0.056647</td>\n",
       "      <td>-0.123248</td>\n",
       "      <td>0.004565</td>\n",
       "      <td>-0.018004</td>\n",
       "      <td>0.347406</td>\n",
       "      <td>-0.049544</td>\n",
       "      <td>0.009323</td>\n",
       "      <td>-0.052689</td>\n",
       "      <td>0.003838</td>\n",
       "      <td>-0.055801</td>\n",
       "      <td>-0.009200</td>\n",
       "      <td>0.028928</td>\n",
       "      <td>-0.292638</td>\n",
       "      <td>0.263710</td>\n",
       "      <td>-0.025707</td>\n",
       "      <td>-0.472295</td>\n",
       "      <td>0.498002</td>\n",
       "      <td>0.003856</td>\n",
       "      <td>-0.003856</td>\n",
       "      <td>-0.291897</td>\n",
       "      <td>0.291897</td>\n",
       "      <td>0.067407</td>\n",
       "      <td>-0.067407</td>\n",
       "      <td>0.010645</td>\n",
       "      <td>-0.048256</td>\n",
       "      <td>-0.001195</td>\n",
       "      <td>-0.003052</td>\n",
       "      <td>-0.002916</td>\n",
       "      <td>-0.071800</td>\n",
       "      <td>-0.057073</td>\n",
       "      <td>0.001246</td>\n",
       "      <td>0.162373</td>\n",
       "      <td>0.012421</td>\n",
       "      <td>-0.002283</td>\n",
       "      <td>-0.000110</td>\n",
       "    </tr>\n",
       "    <tr>\n",
       "      <th>2</th>\n",
       "      <td>-0.086433</td>\n",
       "      <td>-0.001709</td>\n",
       "      <td>-0.006231</td>\n",
       "      <td>-0.033266</td>\n",
       "      <td>0.006078</td>\n",
       "      <td>0.022431</td>\n",
       "      <td>0.096390</td>\n",
       "      <td>-0.125961</td>\n",
       "      <td>-0.017467</td>\n",
       "      <td>-0.017269</td>\n",
       "      <td>-0.139854</td>\n",
       "      <td>-0.028261</td>\n",
       "      <td>-0.006175</td>\n",
       "      <td>0.053266</td>\n",
       "      <td>0.046691</td>\n",
       "      <td>0.130766</td>\n",
       "      <td>0.007875</td>\n",
       "      <td>0.088095</td>\n",
       "      <td>-0.630155</td>\n",
       "      <td>0.542060</td>\n",
       "      <td>-0.214507</td>\n",
       "      <td>0.366689</td>\n",
       "      <td>-0.152182</td>\n",
       "      <td>-0.002236</td>\n",
       "      <td>0.002236</td>\n",
       "      <td>0.092174</td>\n",
       "      <td>-0.092174</td>\n",
       "      <td>0.028287</td>\n",
       "      <td>-0.028287</td>\n",
       "      <td>0.002409</td>\n",
       "      <td>-0.017743</td>\n",
       "      <td>0.001569</td>\n",
       "      <td>0.018751</td>\n",
       "      <td>0.014588</td>\n",
       "      <td>-0.014453</td>\n",
       "      <td>-0.007204</td>\n",
       "      <td>0.003374</td>\n",
       "      <td>0.009225</td>\n",
       "      <td>-0.017685</td>\n",
       "      <td>0.003694</td>\n",
       "      <td>0.003476</td>\n",
       "    </tr>\n",
       "    <tr>\n",
       "      <th>3</th>\n",
       "      <td>-0.012005</td>\n",
       "      <td>-0.003498</td>\n",
       "      <td>0.034662</td>\n",
       "      <td>0.014079</td>\n",
       "      <td>-0.014485</td>\n",
       "      <td>-0.046499</td>\n",
       "      <td>0.045292</td>\n",
       "      <td>-0.201053</td>\n",
       "      <td>0.020480</td>\n",
       "      <td>-0.012818</td>\n",
       "      <td>0.096549</td>\n",
       "      <td>-0.022483</td>\n",
       "      <td>0.003234</td>\n",
       "      <td>0.034912</td>\n",
       "      <td>-0.019040</td>\n",
       "      <td>0.067425</td>\n",
       "      <td>-0.012498</td>\n",
       "      <td>0.033618</td>\n",
       "      <td>-0.002578</td>\n",
       "      <td>-0.031040</td>\n",
       "      <td>-0.177155</td>\n",
       "      <td>0.055121</td>\n",
       "      <td>0.122034</td>\n",
       "      <td>-0.021008</td>\n",
       "      <td>0.021008</td>\n",
       "      <td>-0.070393</td>\n",
       "      <td>0.070393</td>\n",
       "      <td>-0.626796</td>\n",
       "      <td>0.626796</td>\n",
       "      <td>-0.007972</td>\n",
       "      <td>-0.046994</td>\n",
       "      <td>-0.002530</td>\n",
       "      <td>-0.004441</td>\n",
       "      <td>0.001189</td>\n",
       "      <td>0.241385</td>\n",
       "      <td>-0.039584</td>\n",
       "      <td>-0.004449</td>\n",
       "      <td>-0.159164</td>\n",
       "      <td>0.036770</td>\n",
       "      <td>-0.007200</td>\n",
       "      <td>-0.007009</td>\n",
       "    </tr>\n",
       "    <tr>\n",
       "      <th>4</th>\n",
       "      <td>-0.009626</td>\n",
       "      <td>-0.003017</td>\n",
       "      <td>-0.013946</td>\n",
       "      <td>-0.000431</td>\n",
       "      <td>-0.021286</td>\n",
       "      <td>-0.095826</td>\n",
       "      <td>-0.086436</td>\n",
       "      <td>0.501698</td>\n",
       "      <td>-0.004759</td>\n",
       "      <td>0.026206</td>\n",
       "      <td>-0.176824</td>\n",
       "      <td>0.018825</td>\n",
       "      <td>-0.007335</td>\n",
       "      <td>-0.057255</td>\n",
       "      <td>0.011727</td>\n",
       "      <td>-0.228040</td>\n",
       "      <td>0.002194</td>\n",
       "      <td>0.041330</td>\n",
       "      <td>-0.254231</td>\n",
       "      <td>0.212901</td>\n",
       "      <td>0.502386</td>\n",
       "      <td>-0.334803</td>\n",
       "      <td>-0.167584</td>\n",
       "      <td>-0.012388</td>\n",
       "      <td>0.012388</td>\n",
       "      <td>0.096731</td>\n",
       "      <td>-0.096731</td>\n",
       "      <td>-0.212573</td>\n",
       "      <td>0.212573</td>\n",
       "      <td>-0.018880</td>\n",
       "      <td>-0.109460</td>\n",
       "      <td>-0.002074</td>\n",
       "      <td>-0.005675</td>\n",
       "      <td>-0.003370</td>\n",
       "      <td>0.087701</td>\n",
       "      <td>0.070187</td>\n",
       "      <td>-0.003251</td>\n",
       "      <td>0.043249</td>\n",
       "      <td>-0.050385</td>\n",
       "      <td>-0.003930</td>\n",
       "      <td>-0.004112</td>\n",
       "    </tr>\n",
       "  </tbody>\n",
       "</table>\n",
       "</div>"
      ],
      "text/plain": [
       "         0         1         2   ...        38        39        40\n",
       "0  0.025342  0.003625  0.010594  ...  0.019086  0.013834  0.011326\n",
       "1 -0.056587  0.001367 -0.002634  ...  0.012421 -0.002283 -0.000110\n",
       "2 -0.086433 -0.001709 -0.006231  ... -0.017685  0.003694  0.003476\n",
       "3 -0.012005 -0.003498  0.034662  ...  0.036770 -0.007200 -0.007009\n",
       "4 -0.009626 -0.003017 -0.013946  ... -0.050385 -0.003930 -0.004112\n",
       "\n",
       "[5 rows x 41 columns]"
      ]
     },
     "execution_count": 43,
     "metadata": {},
     "output_type": "execute_result"
    }
   ],
   "source": [
    "#Principal Components Weights (Eigenvectors)\n",
    "df_pca_weights = pd.DataFrame(pca.components_)\n",
    "df_pca_weights.head()"
   ]
  },
  {
   "cell_type": "code",
   "execution_count": 44,
   "metadata": {
    "colab": {
     "base_uri": "https://localhost:8080/"
    },
    "collapsed": false,
    "id": "dk5GhN12k6ZV",
    "outputId": "6d70e680-be60-4a59-8b50-fdf576bbcc31"
   },
   "outputs": [
    {
     "data": {
      "text/plain": [
       "array([1.56805808e-01, 1.15638540e-01, 1.05503621e-01, 7.14288112e-02,\n",
       "       6.37823253e-02, 4.51293880e-02, 4.40547367e-02, 4.07499664e-02,\n",
       "       3.92390070e-02, 3.38545778e-02, 3.28680287e-02, 2.90014802e-02,\n",
       "       2.59120692e-02, 2.45161967e-02, 2.09089070e-02, 2.01631900e-02,\n",
       "       1.81525710e-02, 1.59827205e-02, 1.41826915e-02, 1.18809927e-02,\n",
       "       1.03573229e-02, 8.87730863e-03, 8.51433096e-03, 7.34564349e-03,\n",
       "       6.83648534e-03, 6.67891677e-03, 5.58276090e-03, 4.47890097e-03,\n",
       "       3.40719997e-03, 3.18239180e-03, 2.80041199e-03, 1.28076356e-03,\n",
       "       7.17890407e-04, 1.84042890e-04, 3.09244929e-32, 4.51651209e-33,\n",
       "       4.04861255e-33, 2.44541014e-33, 1.74078301e-33, 1.02948805e-33,\n",
       "       7.18493740e-35])"
      ]
     },
     "execution_count": 44,
     "metadata": {},
     "output_type": "execute_result"
    }
   ],
   "source": [
    "#The PCs are arranged in descending order of the variance(information) explained. We want to see how\n",
    "#much of the total information is contributed by each PC, use explained_variance_ratio\n",
    "pca.explained_variance_ratio_"
   ]
  },
  {
   "cell_type": "code",
   "execution_count": 45,
   "metadata": {
    "colab": {
     "base_uri": "https://localhost:8080/"
    },
    "collapsed": false,
    "id": "Fbz3F_NXlAPC",
    "outputId": "0c4f5591-e8ca-4ffd-9292-ee659fc2c0f6"
   },
   "outputs": [
    {
     "name": "stdout",
     "output_type": "stream",
     "text": [
      "Covariance Matrix \n",
      " [[ 6.19042678e-01  6.87596653e-18 -1.21134885e-16 ... -7.42010838e-33\n",
      "   6.13981866e-33 -1.08373497e-34]\n",
      " [ 6.87596653e-18  4.56521301e-01  1.07333838e-16 ... -1.35446423e-33\n",
      "   8.11369876e-33 -1.57559047e-34]\n",
      " [-1.21134885e-16  1.07333838e-16  4.16510363e-01 ...  3.98937154e-33\n",
      "  -7.19000214e-33  7.55342823e-34]\n",
      " ...\n",
      " [-7.42010838e-33 -1.35446423e-33  3.98937154e-33 ...  6.86779908e-33\n",
      "  -9.42890406e-36  1.32840941e-35]\n",
      " [ 6.13981866e-33  8.11369876e-33 -7.19000214e-33 ... -9.42890406e-36\n",
      "   4.04455895e-33  2.77334370e-35]\n",
      " [-1.08373497e-34 -1.57559047e-34  7.55342823e-34 ...  1.32840941e-35\n",
      "   2.77334370e-35  2.44576326e-34]]\n"
     ]
    }
   ],
   "source": [
    "# Print the Covariance Matrix\n",
    "X_cov=X.astype(float)\n",
    "cov_matrix = np.cov(X_pca.T)\n",
    "print('Covariance Matrix \\n', cov_matrix)"
   ]
  },
  {
   "cell_type": "code",
   "execution_count": 46,
   "metadata": {
    "colab": {
     "base_uri": "https://localhost:8080/"
    },
    "collapsed": false,
    "id": "eMLoYAKQlLCq",
    "outputId": "c4db21d5-6578-4983-f5aa-fac4f417356c"
   },
   "outputs": [
    {
     "name": "stdout",
     "output_type": "stream",
     "text": [
      "Eigenvectors \n",
      " [[ 1.00000000e+00 -4.23080747e-17 -5.98101517e-16 ...  2.02382660e-32\n",
      "  -7.55698468e-33  1.29690536e-32]\n",
      " [ 0.00000000e+00  1.00000000e+00  1.17682901e-15 ...  2.89640667e-27\n",
      "  -1.08157715e-27  1.85613351e-27]\n",
      " [ 0.00000000e+00  1.37097622e-15 -1.00000000e+00 ...  1.44103598e-27\n",
      "  -5.38090462e-28  9.23490108e-28]\n",
      " ...\n",
      " [ 0.00000000e+00  1.65364980e-32 -3.22849286e-32 ...  1.64283241e-01\n",
      "  -9.57300029e-01  2.05072461e-01]\n",
      " [ 0.00000000e+00  7.20240579e-33  3.30761428e-32 ... -1.32248195e-01\n",
      "   9.59530577e-02 -8.24014971e-02]\n",
      " [ 0.00000000e+00 -2.84772440e-34 -2.28832352e-33 ...  2.65095905e-02\n",
      "   9.50287139e-03 -1.03391584e-02]]\n",
      "\n",
      " Eigenvalues \n",
      " [6.19042678e-01 4.56521301e-01 4.16510363e-01 2.81988805e-01\n",
      " 2.51801779e-01 1.78163153e-01 1.73920612e-01 1.60873941e-01\n",
      " 1.54908930e-01 1.33652119e-01 1.29757390e-01 1.14492914e-01\n",
      " 1.02296445e-01 9.67857774e-02 8.25448108e-02 7.96008469e-02\n",
      " 7.16632650e-02 6.30970641e-02 5.59908552e-02 4.69041398e-02\n",
      " 4.08889503e-02 3.50461055e-02 3.36131314e-02 2.89993519e-02\n",
      " 2.69892821e-02 2.63672282e-02 2.20397911e-02 1.76819397e-02\n",
      " 1.34510464e-02 1.25635419e-02 1.10555505e-02 5.05623683e-03\n",
      " 2.83410930e-03 7.26570049e-04 1.12245301e-31 1.77781880e-32\n",
      " 2.30282767e-34 4.26307042e-33 1.32619503e-32 7.35162164e-33\n",
      " 1.07005093e-32]\n"
     ]
    }
   ],
   "source": [
    "eig_vals, eig_vecs = np.linalg.eig(cov_matrix)\n",
    "print('Eigenvectors \\n', eig_vecs)\n",
    "print('\\n Eigenvalues \\n', eig_vals)"
   ]
  },
  {
   "cell_type": "code",
   "execution_count": 47,
   "metadata": {
    "colab": {
     "base_uri": "https://localhost:8080/",
     "height": 960
    },
    "collapsed": false,
    "id": "zOE8E4YklPGs",
    "outputId": "a254597b-c824-419a-c9ab-3a53710f72e8"
   },
   "outputs": [
    {
     "data": {
      "image/png": "[encoded data removed]",
      "text/plain": [
       "<Figure size 1080x1080 with 2 Axes>"
      ]
     },
     "metadata": {
      "needs_background": "light"
     },
     "output_type": "display_data"
    }
   ],
   "source": [
    "# Plot a  Heat map to check the effect of variables on each component.\n",
    "# We can see influence on each of the PC by the features.\n",
    "plt.figure(figsize=(15,15))\n",
    "ax = sns.heatmap(pca.components_,\n",
    "                 cmap='YlGnBu',\n",
    "                 yticklabels=[\"PCA\"+str(x) for x in range(1,pca.n_components_+1)],\n",
    "                 xticklabels=list(X.columns))"
   ]
  },
  {
   "cell_type": "markdown",
   "metadata": {
    "id": "7aDwNELbmAlC"
   },
   "source": [
    "Building Model Using PCA components that explain 95% variance of the data"
   ]
  },
  {
   "cell_type": "code",
   "execution_count": 48,
   "metadata": {
    "collapsed": true,
    "id": "Nx-Of44jl-II"
   },
   "outputs": [],
   "source": [
    "pca = PCA(n_components=0.95)\n",
    "X_pca = pca.fit_transform(X)"
   ]
  },
  {
   "cell_type": "code",
   "execution_count": 49,
   "metadata": {
    "colab": {
     "base_uri": "https://localhost:8080/"
    },
    "collapsed": false,
    "id": "45hvJs8Mmezt",
    "outputId": "23724e68-712e-4982-9ae4-efb9ac8af292"
   },
   "outputs": [
    {
     "data": {
      "text/plain": [
       "(45211, 23)"
      ]
     },
     "execution_count": 49,
     "metadata": {},
     "output_type": "execute_result"
    }
   ],
   "source": [
    "# This leaves us with 23 PCs\n",
    "X_pca.shape"
   ]
  },
  {
   "cell_type": "markdown",
   "metadata": {
    "id": "bKSTubn2uggE"
   },
   "source": [
    "For PCA we will not use SMOTE since it doesn't really make sense to us on synthetic points. Instead, we will do cross-validation on the entire dataset and use weighted F-1, recall, and precision as performance metrics. (Alternative strategy: use RandomOversampler from imblearn to create copies and then do PCA - we don't like creating copies so we will stick to the previous one)\n",
    "\n",
    "Check the fundamental models first before do parameter tuning. Only check logistic regression, naive bayes and decision tree first."
   ]
  },
  {
   "cell_type": "code",
   "execution_count": 60,
   "metadata": {
    "collapsed": true,
    "id": "kElpHlJFmjCN"
   },
   "outputs": [],
   "source": [
    "# Initialize the models.\n",
    "dt_pca=DecisionTreeClassifier(criterion='entropy',random_state=0)\n",
    "\n",
    "LR_pca=LogisticRegression()\n",
    "\n",
    "nb_pca=GaussianNB()\n",
    "\n",
    "#rfc_pca=RandomForestClassifier(n_estimators=100,random_state=0)\n",
    "\n",
    "#knn_pca=KNeighborsClassifier()"
   ]
  },
  {
   "cell_type": "code",
   "execution_count": 61,
   "metadata": {
    "collapsed": true,
    "id": "mrLMVIhlxI2h"
   },
   "outputs": [],
   "source": [
    "models_pca=[]\n",
    "models_pca.append(('Logistic',LR_pca))\n",
    "models_pca.append(('Decision Tree',dt_pca))\n",
    "models_pca.append(('Naive Bayes',nb_pca))\n",
    "#models_pca.append(('Random Forest',rfc_pca))\n",
    "#models_pca.append(('KNN',knn_pca))"
   ]
  },
  {
   "cell_type": "code",
   "execution_count": 65,
   "metadata": {
    "colab": {
     "base_uri": "https://localhost:8080/",
     "height": 143
    },
    "collapsed": false,
    "id": "NPH39JQzxeIZ",
    "outputId": "1c8fecc0-ba82-4ee6-fd7c-45379d76b5c7"
   },
   "outputs": [
    {
     "data": {
      "text/html": [
       "<div>\n",
       "<style scoped>\n",
       "    .dataframe tbody tr th:only-of-type {\n",
       "        vertical-align: middle;\n",
       "    }\n",
       "\n",
       "    .dataframe tbody tr th {\n",
       "        vertical-align: top;\n",
       "    }\n",
       "\n",
       "    .dataframe thead th {\n",
       "        text-align: right;\n",
       "    }\n",
       "</style>\n",
       "<table border=\"1\" class=\"dataframe\">\n",
       "  <thead>\n",
       "    <tr style=\"text-align: right;\">\n",
       "      <th></th>\n",
       "      <th>Model</th>\n",
       "      <th>Accuracy Score</th>\n",
       "      <th>ROC-AUC Score</th>\n",
       "      <th>F1 Score</th>\n",
       "      <th>Precision Score</th>\n",
       "      <th>Recall Score</th>\n",
       "    </tr>\n",
       "  </thead>\n",
       "  <tbody>\n",
       "    <tr>\n",
       "      <th>0</th>\n",
       "      <td>Logistic</td>\n",
       "      <td>0.882838</td>\n",
       "      <td>0.719493</td>\n",
       "      <td>0.832810</td>\n",
       "      <td>0.837940</td>\n",
       "      <td>0.882838</td>\n",
       "    </tr>\n",
       "    <tr>\n",
       "      <th>1</th>\n",
       "      <td>Decision Tree</td>\n",
       "      <td>0.826016</td>\n",
       "      <td>0.593671</td>\n",
       "      <td>0.828477</td>\n",
       "      <td>0.831092</td>\n",
       "      <td>0.826016</td>\n",
       "    </tr>\n",
       "    <tr>\n",
       "      <th>2</th>\n",
       "      <td>Naive Bayes</td>\n",
       "      <td>0.827741</td>\n",
       "      <td>0.692941</td>\n",
       "      <td>0.830111</td>\n",
       "      <td>0.832641</td>\n",
       "      <td>0.827741</td>\n",
       "    </tr>\n",
       "  </tbody>\n",
       "</table>\n",
       "</div>"
      ],
      "text/plain": [
       "           Model  Accuracy Score  ...  Precision Score  Recall Score\n",
       "0       Logistic        0.882838  ...         0.837940      0.882838\n",
       "1  Decision Tree        0.826016  ...         0.831092      0.826016\n",
       "2    Naive Bayes        0.827741  ...         0.832641      0.827741\n",
       "\n",
       "[3 rows x 6 columns]"
      ]
     },
     "execution_count": 65,
     "metadata": {},
     "output_type": "execute_result"
    }
   ],
   "source": [
    "accuracy_pca=[]\n",
    "auroc_pca=[]\n",
    "f1_score_pca=[]\n",
    "precision_pca=[]\n",
    "recall_pca=[]\n",
    "names_pca=[]\n",
    "\n",
    "for name, model in models_pca:\n",
    "    kfold = KFold(shuffle=True,n_splits=10,random_state=0)\n",
    "    \n",
    "    acc = cross_val_score(model,X_pca,y,cv=kfold,scoring='accuracy')\n",
    "    accuracy_pca.append(np.mean(acc))\n",
    "\n",
    "    roc_val = cross_val_score(model,X_pca,y, cv=kfold, scoring='roc_auc')\n",
    "    auroc_pca.append(np.mean(roc_val))\n",
    "    \n",
    "    f1=cross_val_score(model,X_pca,y,cv=kfold,scoring='f1_weighted')\n",
    "    f1_score_pca.append(np.mean(f1))\n",
    "    \n",
    "    prec = cross_val_score(model,X_pca,y,cv=kfold,scoring='precision_weighted')\n",
    "    precision_pca.append(np.mean(prec))\n",
    "    \n",
    "    rec = cross_val_score(model,X_pca,y,cv=kfold,scoring='recall_weighted')\n",
    "    recall_pca.append(np.mean(rec))\n",
    "    \n",
    "    names_pca.append(name)\n",
    "    \n",
    "result_pca_df=pd.DataFrame({'Model':names_pca,\n",
    "                        'Accuracy Score':accuracy_pca,\n",
    "                        'ROC-AUC Score':auroc_pca,\n",
    "                        'F1 Score':f1_score_pca,\n",
    "                        'Precision Score':precision_pca,\n",
    "                        'Recall Score':recall_pca})\n",
    "\n",
    "result_pca_df"
   ]
  },
  {
   "cell_type": "markdown",
   "metadata": {
    "id": "wgzjltOVOP_f"
   },
   "source": [
    "It seems like the accuracy increased significantly for logistic and naive bayes model, but decreased for decision tree. For all three models. the AUROC scores all decreased significantly. This might suggest that the model doesn't separate 0 and 1 class well (although it's imbalanced dataset). Considering the fact that PCA takes away explainability and we only have a few continuous numerical variables in our predictors, we will stop here. For future improvement, we might consider doing other types of preprocessing to both use PCA and account for the imbalanced issue."
   ]
  }
 ],
 "metadata": {
  "colab": {
   "collapsed_sections": [
    "dMV97EjmMKAl"
   ],
   "name": "IE7275 - Project Script - Group17.ipynb",
   "provenance": []
  },
  "kernelspec": {
   "display_name": "p36workshop",
   "language": "python",
   "name": "p36workshop"
  },
  "language_info": {
   "codemirror_mode": {
    "name": "ipython",
    "version": 3
   },
   "file_extension": ".py",
   "mimetype": "text/x-python",
   "name": "python",
   "nbconvert_exporter": "python",
   "pygments_lexer": "ipython3",
   "version": "3.6.9"
  }
 },
 "nbformat": 4,
 "nbformat_minor": 0
}
